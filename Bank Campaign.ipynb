{
 "cells": [
  {
   "cell_type": "markdown",
   "metadata": {},
   "source": [
    "## _Response Modeling of Bank Marketing Campaign_\n",
    "\n",
    "<br />\n",
    "\n",
    "<img src=\"AI.png\" width = '400'><br>\n",
    "\n",
    "\n",
    "### _Business Scenario_\n",
    "\n",
    "There has been a revenue decline for the Portuguese bank and they would like to know what actions to take. After investigation, we found out that the root cause is that their clients are not depositing as frequently as before. Knowing that term deposits allow banks to hold onto a deposit for a specific amount of time, so banks can invest in higher gain financial products to make a profit. In addition, banks also hold better chance to persuade term deposit clients into buying other products such as funds or insurance to further increase their revenues. As a result, the Portuguese bank would like to identify existing clients that have higher chance to subscribe for a term deposit and focus marketing effort on such clients.\n",
    "\n",
    "\n",
    "* The task is to build a POC for the problem\n",
    "\n",
    "* The data is related with direct marketing campaigns of a Portuguese banking institution. \n",
    "\n",
    "* The marketing campaigns were based on phone calls. \n",
    "\n",
    "* Often, more than one contact to the same client was required, in order to access if the product (bank term deposit) would be ('yes') or not ('no') subscribed. "
   ]
  },
  {
   "cell_type": "markdown",
   "metadata": {},
   "source": [
    "## _Attributes Information_\n",
    "\n",
    "\n",
    "### _Bank client data:_\n",
    "1 - age (numeric)\n",
    "\n",
    "2 - job : type of job \n",
    "(categorical: 'admin.','blue-collar','entrepreneur','housemaid','management','retired','self-employed','services','student','technician','unemployed','unknown')\n",
    "\n",
    "3 - marital : marital status \n",
    "(categorical: 'divorced','married','single','unknown'; note: 'divorced' means divorced or widowed)\n",
    "\n",
    "4 - education (categorical:'basic.4y','basic.6y','basic.9y','high.school','illiterate','professional.course','university.degree','unknown')\n",
    "\n",
    "5 - default: has credit in default? (categorical: 'no','yes','unknown')\n",
    "\n",
    "6 - housing: has housing loan? (categorical: 'no','yes','unknown')\n",
    "\n",
    "7 - loan: has personal loan? (categorical: 'no','yes','unknown')\n",
    "\n",
    "### _Data Related to the last contact of the current campaign:_\n",
    "8 - contact: contact communication type (categorical: 'cellular','telephone') \n",
    "\n",
    "9 - month: last contact month of year \n",
    "(categorical: 'jan', 'feb', 'mar', ..., 'nov', 'dec')\n",
    "\n",
    "10 - day_of_week: last contact day of the week \n",
    "(categorical: 'mon','tue','wed','thu','fri')\n",
    "\n",
    "11 - duration: last contact duration, in seconds (numeric). \n",
    "Important note: this attribute highly affects the output target (e.g., if duration=0 then y='no'). Yet, the duration is not known before a call is performed. Also, after the end of the call y is obviously known. Thus, this input should only be included for benchmark purposes and should be discarded if the intention is to have a realistic predictive model.\n",
    "\n",
    "### _Other attributes:_\n",
    "\n",
    "12 - campaign: number of contacts performed during this campaign and for this client \n",
    "(numeric, includes last contact)\n",
    "\n",
    "13 - pdays: number of days that passed by after the client was last contacted from a previous campaign \n",
    "(numeric; 999 means client was not previously contacted)\n",
    "\n",
    "14 - previous: number of contacts performed before this campaign and for this client (numeric)\n",
    "\n",
    "15 - poutcome: outcome of the previous marketing campaign (categorical: 'failure','nonexistent','success')\n",
    "\n",
    "### _Social and economic context attributes_\n",
    "16 - emp.var.rate: employment variation rate - quarterly indicator (numeric)\n",
    "\n",
    "17 - cons.price.idx: consumer price index - monthly indicator (numeric) \n",
    "\n",
    "18 - cons.conf.idx: consumer confidence index - monthly indicator (numeric) \n",
    "\n",
    "19 - euribor3m: euribor 3 month rate - daily indicator (numeric)\n",
    "\n",
    "20 - nr.employed: number of employees - quarterly indicator (numeric)\n",
    "\n",
    "Output variable (desired target):\n",
    "21 - y - has the client subscribed a term deposit? (binary: 'yes','no')"
   ]
  },
  {
   "cell_type": "markdown",
   "metadata": {},
   "source": [
    "## _Exploratory Analysis_\n",
    "\n",
    "### _Import Libraries_"
   ]
  },
  {
   "cell_type": "code",
   "execution_count": 1,
   "metadata": {},
   "outputs": [],
   "source": [
    "import os\n",
    "import numpy as np\n",
    "import pandas as pd\n",
    "\n",
    "from sklearn import preprocessing\n",
    "from sklearn.impute import SimpleImputer\n",
    "\n",
    "from sklearn.compose import ColumnTransformer\n",
    "\n",
    "from sklearn.preprocessing import StandardScaler\n",
    "from sklearn.preprocessing import OneHotEncoder\n",
    "from sklearn.model_selection import train_test_split\n",
    "from sklearn.pipeline import Pipeline\n",
    "from sklearn.model_selection import GridSearchCV, cross_val_score, StratifiedKFold\n",
    "\n",
    "from sklearn.tree import DecisionTreeClassifier\n",
    "from sklearn.ensemble import RandomForestClassifier\n",
    "from sklearn.svm import SVC\n",
    "from sklearn.linear_model import LogisticRegression\n",
    "\n",
    "from sklearn.ensemble import GradientBoostingClassifier\n",
    "from sklearn.ensemble import AdaBoostClassifier\n",
    "from sklearn.metrics import confusion_matrix\n",
    "\n",
    "import matplotlib.pyplot as plt\n",
    "# !pip install seaborn\n",
    "import seaborn as sns\n",
    "\n",
    "#!pip install imblearn\n",
    "#if the above command does not work to install imblearn package run the following command in your terminal\n",
    "# conda install -c glemaitre imbalanced-learn\n",
    "from imblearn.over_sampling import SMOTE\n",
    "from sklearn.metrics import accuracy_score, recall_score, precision_score\n",
    "\n",
    "import warnings\n",
    "warnings.filterwarnings('ignore')"
   ]
  },
  {
   "cell_type": "code",
   "execution_count": 2,
   "metadata": {},
   "outputs": [],
   "source": [
    "# Define custom function to print accuracy, precision and recall\n",
    "\n",
    "def convert_for_sklearn(label_list):\n",
    "    return [1 if i == 'yes' else 0 for i in label_list]\n",
    "\n",
    "\n",
    "def accuracy_precision_recall_metrics(y_true, y_pred):\n",
    "    \n",
    "    y_test_scoring = convert_for_sklearn(y_true)\n",
    "    test_pred_scoring = convert_for_sklearn(y_pred)\n",
    "\n",
    "    acc = accuracy_score(y_true= y_test_scoring, y_pred = test_pred_scoring)\n",
    "    prec = precision_score(y_true= y_test_scoring, y_pred = test_pred_scoring)\n",
    "    rec = recall_score(y_true= y_test_scoring, y_pred = test_pred_scoring)\n",
    "    \n",
    "    print(\"Test Precision: \",prec)\n",
    "    print(\"Test Recall: \",rec)\n",
    "    print(\"Test Accuracy: \",acc)"
   ]
  },
  {
   "cell_type": "markdown",
   "metadata": {},
   "source": [
    "### _Read in the data_"
   ]
  },
  {
   "cell_type": "code",
   "execution_count": 3,
   "metadata": {},
   "outputs": [
    {
     "name": "stdout",
     "output_type": "stream",
     "text": [
      "(41188, 22)\n",
      "(4119, 22)\n"
     ]
    },
    {
     "data": {
      "text/html": [
       "<div>\n",
       "<style scoped>\n",
       "    .dataframe tbody tr th:only-of-type {\n",
       "        vertical-align: middle;\n",
       "    }\n",
       "\n",
       "    .dataframe tbody tr th {\n",
       "        vertical-align: top;\n",
       "    }\n",
       "\n",
       "    .dataframe thead th {\n",
       "        text-align: right;\n",
       "    }\n",
       "</style>\n",
       "<table border=\"1\" class=\"dataframe\">\n",
       "  <thead>\n",
       "    <tr style=\"text-align: right;\">\n",
       "      <th></th>\n",
       "      <th>customer_no</th>\n",
       "      <th>age</th>\n",
       "      <th>job</th>\n",
       "      <th>marital</th>\n",
       "      <th>education</th>\n",
       "      <th>credit_default</th>\n",
       "      <th>housing</th>\n",
       "      <th>loan</th>\n",
       "      <th>contact</th>\n",
       "      <th>contacted_month</th>\n",
       "      <th>...</th>\n",
       "      <th>campaign</th>\n",
       "      <th>pdays</th>\n",
       "      <th>previous</th>\n",
       "      <th>poutcome</th>\n",
       "      <th>emp_var_rate</th>\n",
       "      <th>cons_price_idx</th>\n",
       "      <th>cons_conf_idx</th>\n",
       "      <th>euribor3m</th>\n",
       "      <th>nr_employed</th>\n",
       "      <th>y</th>\n",
       "    </tr>\n",
       "  </thead>\n",
       "  <tbody>\n",
       "    <tr>\n",
       "      <th>0</th>\n",
       "      <td>1</td>\n",
       "      <td>56</td>\n",
       "      <td>housemaid</td>\n",
       "      <td>married</td>\n",
       "      <td>basic.4y</td>\n",
       "      <td>no</td>\n",
       "      <td>no</td>\n",
       "      <td>no</td>\n",
       "      <td>telephone</td>\n",
       "      <td>may</td>\n",
       "      <td>...</td>\n",
       "      <td>1</td>\n",
       "      <td>999</td>\n",
       "      <td>0</td>\n",
       "      <td>nonexistent</td>\n",
       "      <td>1.1</td>\n",
       "      <td>93.994</td>\n",
       "      <td>-36.4</td>\n",
       "      <td>4.857</td>\n",
       "      <td>5191.0</td>\n",
       "      <td>no</td>\n",
       "    </tr>\n",
       "    <tr>\n",
       "      <th>1</th>\n",
       "      <td>2</td>\n",
       "      <td>57</td>\n",
       "      <td>services</td>\n",
       "      <td>married</td>\n",
       "      <td>high.school</td>\n",
       "      <td>NaN</td>\n",
       "      <td>no</td>\n",
       "      <td>no</td>\n",
       "      <td>telephone</td>\n",
       "      <td>may</td>\n",
       "      <td>...</td>\n",
       "      <td>1</td>\n",
       "      <td>999</td>\n",
       "      <td>0</td>\n",
       "      <td>nonexistent</td>\n",
       "      <td>1.1</td>\n",
       "      <td>93.994</td>\n",
       "      <td>-36.4</td>\n",
       "      <td>4.857</td>\n",
       "      <td>5191.0</td>\n",
       "      <td>no</td>\n",
       "    </tr>\n",
       "    <tr>\n",
       "      <th>2</th>\n",
       "      <td>3</td>\n",
       "      <td>37</td>\n",
       "      <td>services</td>\n",
       "      <td>married</td>\n",
       "      <td>high.school</td>\n",
       "      <td>no</td>\n",
       "      <td>yes</td>\n",
       "      <td>no</td>\n",
       "      <td>telephone</td>\n",
       "      <td>may</td>\n",
       "      <td>...</td>\n",
       "      <td>1</td>\n",
       "      <td>999</td>\n",
       "      <td>0</td>\n",
       "      <td>nonexistent</td>\n",
       "      <td>1.1</td>\n",
       "      <td>93.994</td>\n",
       "      <td>-36.4</td>\n",
       "      <td>4.857</td>\n",
       "      <td>5191.0</td>\n",
       "      <td>no</td>\n",
       "    </tr>\n",
       "    <tr>\n",
       "      <th>3</th>\n",
       "      <td>4</td>\n",
       "      <td>40</td>\n",
       "      <td>admin.</td>\n",
       "      <td>married</td>\n",
       "      <td>basic.6y</td>\n",
       "      <td>no</td>\n",
       "      <td>no</td>\n",
       "      <td>no</td>\n",
       "      <td>telephone</td>\n",
       "      <td>may</td>\n",
       "      <td>...</td>\n",
       "      <td>1</td>\n",
       "      <td>999</td>\n",
       "      <td>0</td>\n",
       "      <td>nonexistent</td>\n",
       "      <td>1.1</td>\n",
       "      <td>93.994</td>\n",
       "      <td>-36.4</td>\n",
       "      <td>4.857</td>\n",
       "      <td>5191.0</td>\n",
       "      <td>no</td>\n",
       "    </tr>\n",
       "    <tr>\n",
       "      <th>4</th>\n",
       "      <td>5</td>\n",
       "      <td>56</td>\n",
       "      <td>services</td>\n",
       "      <td>married</td>\n",
       "      <td>high.school</td>\n",
       "      <td>no</td>\n",
       "      <td>no</td>\n",
       "      <td>yes</td>\n",
       "      <td>telephone</td>\n",
       "      <td>may</td>\n",
       "      <td>...</td>\n",
       "      <td>1</td>\n",
       "      <td>999</td>\n",
       "      <td>0</td>\n",
       "      <td>nonexistent</td>\n",
       "      <td>1.1</td>\n",
       "      <td>93.994</td>\n",
       "      <td>-36.4</td>\n",
       "      <td>4.857</td>\n",
       "      <td>5191.0</td>\n",
       "      <td>no</td>\n",
       "    </tr>\n",
       "  </tbody>\n",
       "</table>\n",
       "<p>5 rows × 22 columns</p>\n",
       "</div>"
      ],
      "text/plain": [
       "   customer_no  age        job  marital    education credit_default housing  \\\n",
       "0            1   56  housemaid  married     basic.4y             no      no   \n",
       "1            2   57   services  married  high.school            NaN      no   \n",
       "2            3   37   services  married  high.school             no     yes   \n",
       "3            4   40     admin.  married     basic.6y             no      no   \n",
       "4            5   56   services  married  high.school             no      no   \n",
       "\n",
       "  loan    contact contacted_month ... campaign  pdays  previous     poutcome  \\\n",
       "0   no  telephone             may ...        1    999         0  nonexistent   \n",
       "1   no  telephone             may ...        1    999         0  nonexistent   \n",
       "2   no  telephone             may ...        1    999         0  nonexistent   \n",
       "3   no  telephone             may ...        1    999         0  nonexistent   \n",
       "4  yes  telephone             may ...        1    999         0  nonexistent   \n",
       "\n",
       "   emp_var_rate cons_price_idx  cons_conf_idx  euribor3m  nr_employed   y  \n",
       "0           1.1         93.994          -36.4      4.857       5191.0  no  \n",
       "1           1.1         93.994          -36.4      4.857       5191.0  no  \n",
       "2           1.1         93.994          -36.4      4.857       5191.0  no  \n",
       "3           1.1         93.994          -36.4      4.857       5191.0  no  \n",
       "4           1.1         93.994          -36.4      4.857       5191.0  no  \n",
       "\n",
       "[5 rows x 22 columns]"
      ]
     },
     "execution_count": 3,
     "metadata": {},
     "output_type": "execute_result"
    }
   ],
   "source": [
    "bank_data = pd.read_csv(\"bank-additional-full.csv\", sep=',', header=0, na_values='unknown')\n",
    "test_data =  pd.read_csv(\"test_cases.csv\", sep=',', header=0, na_values='unknown')\n",
    "\n",
    "print(bank_data.shape)\n",
    "print(test_data.shape)\n",
    "\n",
    "bank_data.head()"
   ]
  },
  {
   "cell_type": "markdown",
   "metadata": {},
   "source": [
    "### _Understand the dataset_\n",
    "\n",
    "Undestanding the dataset can be as thorough as you want it to be, you can start by looking at the variables and asking questions, like the one's mentioned below."
   ]
  },
  {
   "cell_type": "code",
   "execution_count": 4,
   "metadata": {},
   "outputs": [
    {
     "name": "stdout",
     "output_type": "stream",
     "text": [
      "['customer_no', 'age', 'job', 'marital', 'education', 'credit_default', 'housing', 'loan', 'contact', 'contacted_month', 'day_of_week', 'duration', 'campaign', 'pdays', 'previous', 'poutcome', 'emp_var_rate', 'cons_price_idx', 'cons_conf_idx', 'euribor3m', 'nr_employed', 'y']\n"
     ]
    }
   ],
   "source": [
    "# What are the names of the columns?\n",
    "print(list(bank_data.columns))"
   ]
  },
  {
   "cell_type": "code",
   "execution_count": 5,
   "metadata": {},
   "outputs": [
    {
     "data": {
      "text/plain": [
       "customer_no          int64\n",
       "age                  int64\n",
       "job                 object\n",
       "marital             object\n",
       "education           object\n",
       "credit_default      object\n",
       "housing             object\n",
       "loan                object\n",
       "contact             object\n",
       "contacted_month     object\n",
       "day_of_week         object\n",
       "duration             int64\n",
       "campaign             int64\n",
       "pdays                int64\n",
       "previous             int64\n",
       "poutcome            object\n",
       "emp_var_rate       float64\n",
       "cons_price_idx     float64\n",
       "cons_conf_idx      float64\n",
       "euribor3m          float64\n",
       "nr_employed        float64\n",
       "y                   object\n",
       "dtype: object"
      ]
     },
     "execution_count": 5,
     "metadata": {},
     "output_type": "execute_result"
    }
   ],
   "source": [
    "# What are the data types?\n",
    "bank_data.dtypes"
   ]
  },
  {
   "cell_type": "code",
   "execution_count": 6,
   "metadata": {},
   "outputs": [
    {
     "data": {
      "text/html": [
       "<div>\n",
       "<style scoped>\n",
       "    .dataframe tbody tr th:only-of-type {\n",
       "        vertical-align: middle;\n",
       "    }\n",
       "\n",
       "    .dataframe tbody tr th {\n",
       "        vertical-align: top;\n",
       "    }\n",
       "\n",
       "    .dataframe thead th {\n",
       "        text-align: right;\n",
       "    }\n",
       "</style>\n",
       "<table border=\"1\" class=\"dataframe\">\n",
       "  <thead>\n",
       "    <tr style=\"text-align: right;\">\n",
       "      <th></th>\n",
       "      <th>customer_no</th>\n",
       "      <th>age</th>\n",
       "      <th>duration</th>\n",
       "      <th>campaign</th>\n",
       "      <th>pdays</th>\n",
       "      <th>previous</th>\n",
       "      <th>emp_var_rate</th>\n",
       "      <th>cons_price_idx</th>\n",
       "      <th>cons_conf_idx</th>\n",
       "      <th>euribor3m</th>\n",
       "      <th>nr_employed</th>\n",
       "    </tr>\n",
       "  </thead>\n",
       "  <tbody>\n",
       "    <tr>\n",
       "      <th>count</th>\n",
       "      <td>41188.00000</td>\n",
       "      <td>41188.00000</td>\n",
       "      <td>41188.000000</td>\n",
       "      <td>41188.000000</td>\n",
       "      <td>41188.000000</td>\n",
       "      <td>41188.000000</td>\n",
       "      <td>41188.000000</td>\n",
       "      <td>41188.000000</td>\n",
       "      <td>41188.000000</td>\n",
       "      <td>41188.000000</td>\n",
       "      <td>41188.000000</td>\n",
       "    </tr>\n",
       "    <tr>\n",
       "      <th>mean</th>\n",
       "      <td>20594.50000</td>\n",
       "      <td>40.02406</td>\n",
       "      <td>258.285010</td>\n",
       "      <td>2.567593</td>\n",
       "      <td>962.475454</td>\n",
       "      <td>0.172963</td>\n",
       "      <td>0.081886</td>\n",
       "      <td>93.575664</td>\n",
       "      <td>-40.502600</td>\n",
       "      <td>3.621291</td>\n",
       "      <td>5167.035911</td>\n",
       "    </tr>\n",
       "    <tr>\n",
       "      <th>std</th>\n",
       "      <td>11890.09578</td>\n",
       "      <td>10.42125</td>\n",
       "      <td>259.279249</td>\n",
       "      <td>2.770014</td>\n",
       "      <td>186.910907</td>\n",
       "      <td>0.494901</td>\n",
       "      <td>1.570960</td>\n",
       "      <td>0.578840</td>\n",
       "      <td>4.628198</td>\n",
       "      <td>1.734447</td>\n",
       "      <td>72.251528</td>\n",
       "    </tr>\n",
       "    <tr>\n",
       "      <th>min</th>\n",
       "      <td>1.00000</td>\n",
       "      <td>17.00000</td>\n",
       "      <td>0.000000</td>\n",
       "      <td>1.000000</td>\n",
       "      <td>0.000000</td>\n",
       "      <td>0.000000</td>\n",
       "      <td>-3.400000</td>\n",
       "      <td>92.201000</td>\n",
       "      <td>-50.800000</td>\n",
       "      <td>0.634000</td>\n",
       "      <td>4963.600000</td>\n",
       "    </tr>\n",
       "    <tr>\n",
       "      <th>25%</th>\n",
       "      <td>10297.75000</td>\n",
       "      <td>32.00000</td>\n",
       "      <td>102.000000</td>\n",
       "      <td>1.000000</td>\n",
       "      <td>999.000000</td>\n",
       "      <td>0.000000</td>\n",
       "      <td>-1.800000</td>\n",
       "      <td>93.075000</td>\n",
       "      <td>-42.700000</td>\n",
       "      <td>1.344000</td>\n",
       "      <td>5099.100000</td>\n",
       "    </tr>\n",
       "    <tr>\n",
       "      <th>50%</th>\n",
       "      <td>20594.50000</td>\n",
       "      <td>38.00000</td>\n",
       "      <td>180.000000</td>\n",
       "      <td>2.000000</td>\n",
       "      <td>999.000000</td>\n",
       "      <td>0.000000</td>\n",
       "      <td>1.100000</td>\n",
       "      <td>93.749000</td>\n",
       "      <td>-41.800000</td>\n",
       "      <td>4.857000</td>\n",
       "      <td>5191.000000</td>\n",
       "    </tr>\n",
       "    <tr>\n",
       "      <th>75%</th>\n",
       "      <td>30891.25000</td>\n",
       "      <td>47.00000</td>\n",
       "      <td>319.000000</td>\n",
       "      <td>3.000000</td>\n",
       "      <td>999.000000</td>\n",
       "      <td>0.000000</td>\n",
       "      <td>1.400000</td>\n",
       "      <td>93.994000</td>\n",
       "      <td>-36.400000</td>\n",
       "      <td>4.961000</td>\n",
       "      <td>5228.100000</td>\n",
       "    </tr>\n",
       "    <tr>\n",
       "      <th>max</th>\n",
       "      <td>41188.00000</td>\n",
       "      <td>98.00000</td>\n",
       "      <td>4918.000000</td>\n",
       "      <td>56.000000</td>\n",
       "      <td>999.000000</td>\n",
       "      <td>7.000000</td>\n",
       "      <td>1.400000</td>\n",
       "      <td>94.767000</td>\n",
       "      <td>-26.900000</td>\n",
       "      <td>5.045000</td>\n",
       "      <td>5228.100000</td>\n",
       "    </tr>\n",
       "  </tbody>\n",
       "</table>\n",
       "</div>"
      ],
      "text/plain": [
       "       customer_no          age      duration      campaign         pdays  \\\n",
       "count  41188.00000  41188.00000  41188.000000  41188.000000  41188.000000   \n",
       "mean   20594.50000     40.02406    258.285010      2.567593    962.475454   \n",
       "std    11890.09578     10.42125    259.279249      2.770014    186.910907   \n",
       "min        1.00000     17.00000      0.000000      1.000000      0.000000   \n",
       "25%    10297.75000     32.00000    102.000000      1.000000    999.000000   \n",
       "50%    20594.50000     38.00000    180.000000      2.000000    999.000000   \n",
       "75%    30891.25000     47.00000    319.000000      3.000000    999.000000   \n",
       "max    41188.00000     98.00000   4918.000000     56.000000    999.000000   \n",
       "\n",
       "           previous  emp_var_rate  cons_price_idx  cons_conf_idx  \\\n",
       "count  41188.000000  41188.000000    41188.000000   41188.000000   \n",
       "mean       0.172963      0.081886       93.575664     -40.502600   \n",
       "std        0.494901      1.570960        0.578840       4.628198   \n",
       "min        0.000000     -3.400000       92.201000     -50.800000   \n",
       "25%        0.000000     -1.800000       93.075000     -42.700000   \n",
       "50%        0.000000      1.100000       93.749000     -41.800000   \n",
       "75%        0.000000      1.400000       93.994000     -36.400000   \n",
       "max        7.000000      1.400000       94.767000     -26.900000   \n",
       "\n",
       "          euribor3m   nr_employed  \n",
       "count  41188.000000  41188.000000  \n",
       "mean       3.621291   5167.035911  \n",
       "std        1.734447     72.251528  \n",
       "min        0.634000   4963.600000  \n",
       "25%        1.344000   5099.100000  \n",
       "50%        4.857000   5191.000000  \n",
       "75%        4.961000   5228.100000  \n",
       "max        5.045000   5228.100000  "
      ]
     },
     "execution_count": 6,
     "metadata": {},
     "output_type": "execute_result"
    }
   ],
   "source": [
    "# What is the distribution of numerical columns?\n",
    "bank_data.describe()"
   ]
  },
  {
   "cell_type": "code",
   "execution_count": 7,
   "metadata": {},
   "outputs": [
    {
     "data": {
      "text/html": [
       "<div>\n",
       "<style scoped>\n",
       "    .dataframe tbody tr th:only-of-type {\n",
       "        vertical-align: middle;\n",
       "    }\n",
       "\n",
       "    .dataframe tbody tr th {\n",
       "        vertical-align: top;\n",
       "    }\n",
       "\n",
       "    .dataframe thead th {\n",
       "        text-align: right;\n",
       "    }\n",
       "</style>\n",
       "<table border=\"1\" class=\"dataframe\">\n",
       "  <thead>\n",
       "    <tr style=\"text-align: right;\">\n",
       "      <th></th>\n",
       "      <th>job</th>\n",
       "      <th>marital</th>\n",
       "      <th>education</th>\n",
       "      <th>credit_default</th>\n",
       "      <th>housing</th>\n",
       "      <th>loan</th>\n",
       "      <th>contact</th>\n",
       "      <th>contacted_month</th>\n",
       "      <th>day_of_week</th>\n",
       "      <th>poutcome</th>\n",
       "      <th>y</th>\n",
       "    </tr>\n",
       "  </thead>\n",
       "  <tbody>\n",
       "    <tr>\n",
       "      <th>count</th>\n",
       "      <td>40858</td>\n",
       "      <td>41108</td>\n",
       "      <td>39457</td>\n",
       "      <td>32591</td>\n",
       "      <td>40198</td>\n",
       "      <td>40198</td>\n",
       "      <td>41188</td>\n",
       "      <td>41188</td>\n",
       "      <td>41188</td>\n",
       "      <td>41188</td>\n",
       "      <td>41188</td>\n",
       "    </tr>\n",
       "    <tr>\n",
       "      <th>unique</th>\n",
       "      <td>11</td>\n",
       "      <td>3</td>\n",
       "      <td>7</td>\n",
       "      <td>2</td>\n",
       "      <td>2</td>\n",
       "      <td>2</td>\n",
       "      <td>2</td>\n",
       "      <td>10</td>\n",
       "      <td>5</td>\n",
       "      <td>3</td>\n",
       "      <td>2</td>\n",
       "    </tr>\n",
       "    <tr>\n",
       "      <th>top</th>\n",
       "      <td>admin.</td>\n",
       "      <td>married</td>\n",
       "      <td>university.degree</td>\n",
       "      <td>no</td>\n",
       "      <td>yes</td>\n",
       "      <td>no</td>\n",
       "      <td>cellular</td>\n",
       "      <td>may</td>\n",
       "      <td>thu</td>\n",
       "      <td>nonexistent</td>\n",
       "      <td>no</td>\n",
       "    </tr>\n",
       "    <tr>\n",
       "      <th>freq</th>\n",
       "      <td>10422</td>\n",
       "      <td>24928</td>\n",
       "      <td>12168</td>\n",
       "      <td>32588</td>\n",
       "      <td>21576</td>\n",
       "      <td>33950</td>\n",
       "      <td>26144</td>\n",
       "      <td>13769</td>\n",
       "      <td>8623</td>\n",
       "      <td>35563</td>\n",
       "      <td>36548</td>\n",
       "    </tr>\n",
       "  </tbody>\n",
       "</table>\n",
       "</div>"
      ],
      "text/plain": [
       "           job  marital          education credit_default housing   loan  \\\n",
       "count    40858    41108              39457          32591   40198  40198   \n",
       "unique      11        3                  7              2       2      2   \n",
       "top     admin.  married  university.degree             no     yes     no   \n",
       "freq     10422    24928              12168          32588   21576  33950   \n",
       "\n",
       "         contact contacted_month day_of_week     poutcome      y  \n",
       "count      41188           41188       41188        41188  41188  \n",
       "unique         2              10           5            3      2  \n",
       "top     cellular             may         thu  nonexistent     no  \n",
       "freq       26144           13769        8623        35563  36548  "
      ]
     },
     "execution_count": 7,
     "metadata": {},
     "output_type": "execute_result"
    }
   ],
   "source": [
    "# What about categorical variable levels count?\n",
    "bank_data.describe(include=['object'])"
   ]
  },
  {
   "cell_type": "code",
   "execution_count": 8,
   "metadata": {},
   "outputs": [
    {
     "data": {
      "text/plain": [
       "married     24928\n",
       "single      11568\n",
       "divorced     4612\n",
       "Name: marital, dtype: int64"
      ]
     },
     "execution_count": 8,
     "metadata": {},
     "output_type": "execute_result"
    }
   ],
   "source": [
    "bank_data.marital.value_counts()"
   ]
  },
  {
   "cell_type": "markdown",
   "metadata": {},
   "source": [
    "### _Distribition of dependent variable_"
   ]
  },
  {
   "cell_type": "code",
   "execution_count": 9,
   "metadata": {},
   "outputs": [
    {
     "data": {
      "image/png": "[encoded data removed]",
      "text/plain": [
       "<Figure size 432x288 with 1 Axes>"
      ]
     },
     "metadata": {},
     "output_type": "display_data"
    },
    {
     "name": "stdout",
     "output_type": "stream",
     "text": [
      "no     36548\n",
      "yes     4640\n",
      "Name: y, dtype: int64\n",
      "Percentage of people who have taken the campaign: 11.265417111780131 %\n"
     ]
    }
   ],
   "source": [
    "# Plot Distribution\n",
    "sns.countplot(x='y',data=bank_data)\n",
    "plt.show()\n",
    "\n",
    "# What are the counts?\n",
    "print(bank_data.y.value_counts())\n",
    "\n",
    "# What is the percentage?\n",
    "count_yes = len(bank_data[bank_data.y == 'yes'])\n",
    "count_no = len(bank_data[bank_data.y != 'yes'])\n",
    "\n",
    "percent_success = (count_yes/(count_yes + count_no))*100\n",
    "\n",
    "print('Percentage of people who have taken the campaign:', percent_success, \"%\")"
   ]
  },
  {
   "cell_type": "markdown",
   "metadata": {},
   "source": [
    "### _Distribition of Other Variables_"
   ]
  },
  {
   "cell_type": "code",
   "execution_count": 10,
   "metadata": {},
   "outputs": [
    {
     "data": {
      "image/png": "[encoded data removed]",
      "text/plain": [
       "<Figure size 432x288 with 1 Axes>"
      ]
     },
     "metadata": {},
     "output_type": "display_data"
    },
    {
     "data": {
      "text/plain": [
       "no     32588\n",
       "yes        3\n",
       "Name: credit_default, dtype: int64"
      ]
     },
     "execution_count": 10,
     "metadata": {},
     "output_type": "execute_result"
    }
   ],
   "source": [
    "sns.countplot(x=\"credit_default\", data=bank_data)\n",
    "plt.show()\n",
    "\n",
    "bank_data.credit_default.value_counts()"
   ]
  },
  {
   "cell_type": "code",
   "execution_count": 11,
   "metadata": {},
   "outputs": [
    {
     "data": {
      "text/plain": [
       "thu    0.225216\n",
       "tue    0.205388\n",
       "wed    0.204526\n",
       "mon    0.182543\n",
       "fri    0.182328\n",
       "Name: day_of_week, dtype: float64"
      ]
     },
     "execution_count": 11,
     "metadata": {},
     "output_type": "execute_result"
    }
   ],
   "source": [
    "## when someone is subscribing for the campaign, is it on a particular day of the week?\n",
    "bank_data[bank_data.y == 'yes'].day_of_week.value_counts(normalize=True)"
   ]
  },
  {
   "cell_type": "code",
   "execution_count": 12,
   "metadata": {},
   "outputs": [
    {
     "data": {
      "text/plain": [
       "married     0.547105\n",
       "single      0.350043\n",
       "divorced    0.102852\n",
       "Name: marital, dtype: float64"
      ]
     },
     "execution_count": 12,
     "metadata": {},
     "output_type": "execute_result"
    }
   ],
   "source": [
    "bank_data[bank_data.y == 'yes'].marital.value_counts(normalize=True)"
   ]
  },
  {
   "cell_type": "markdown",
   "metadata": {},
   "source": [
    "### _Drawing trends toward the target variable_"
   ]
  },
  {
   "cell_type": "code",
   "execution_count": 13,
   "metadata": {},
   "outputs": [
    {
     "data": {
      "text/html": [
       "<div>\n",
       "<style scoped>\n",
       "    .dataframe tbody tr th:only-of-type {\n",
       "        vertical-align: middle;\n",
       "    }\n",
       "\n",
       "    .dataframe tbody tr th {\n",
       "        vertical-align: top;\n",
       "    }\n",
       "\n",
       "    .dataframe thead th {\n",
       "        text-align: right;\n",
       "    }\n",
       "</style>\n",
       "<table border=\"1\" class=\"dataframe\">\n",
       "  <thead>\n",
       "    <tr style=\"text-align: right;\">\n",
       "      <th></th>\n",
       "      <th>customer_no</th>\n",
       "      <th>age</th>\n",
       "      <th>duration</th>\n",
       "      <th>campaign</th>\n",
       "      <th>pdays</th>\n",
       "      <th>previous</th>\n",
       "      <th>emp_var_rate</th>\n",
       "      <th>cons_price_idx</th>\n",
       "      <th>cons_conf_idx</th>\n",
       "      <th>euribor3m</th>\n",
       "      <th>nr_employed</th>\n",
       "    </tr>\n",
       "    <tr>\n",
       "      <th>y</th>\n",
       "      <th></th>\n",
       "      <th></th>\n",
       "      <th></th>\n",
       "      <th></th>\n",
       "      <th></th>\n",
       "      <th></th>\n",
       "      <th></th>\n",
       "      <th></th>\n",
       "      <th></th>\n",
       "      <th></th>\n",
       "      <th></th>\n",
       "    </tr>\n",
       "  </thead>\n",
       "  <tbody>\n",
       "    <tr>\n",
       "      <th>no</th>\n",
       "      <td>19354.359719</td>\n",
       "      <td>39.911185</td>\n",
       "      <td>220.844807</td>\n",
       "      <td>2.633085</td>\n",
       "      <td>984.113878</td>\n",
       "      <td>0.132374</td>\n",
       "      <td>0.248875</td>\n",
       "      <td>93.603757</td>\n",
       "      <td>-40.593097</td>\n",
       "      <td>3.811491</td>\n",
       "      <td>5176.166600</td>\n",
       "    </tr>\n",
       "    <tr>\n",
       "      <th>yes</th>\n",
       "      <td>30362.742888</td>\n",
       "      <td>40.913147</td>\n",
       "      <td>553.191164</td>\n",
       "      <td>2.051724</td>\n",
       "      <td>792.035560</td>\n",
       "      <td>0.492672</td>\n",
       "      <td>-1.233448</td>\n",
       "      <td>93.354386</td>\n",
       "      <td>-39.789784</td>\n",
       "      <td>2.123135</td>\n",
       "      <td>5095.115991</td>\n",
       "    </tr>\n",
       "  </tbody>\n",
       "</table>\n",
       "</div>"
      ],
      "text/plain": [
       "      customer_no        age    duration  campaign       pdays  previous  \\\n",
       "y                                                                          \n",
       "no   19354.359719  39.911185  220.844807  2.633085  984.113878  0.132374   \n",
       "yes  30362.742888  40.913147  553.191164  2.051724  792.035560  0.492672   \n",
       "\n",
       "     emp_var_rate  cons_price_idx  cons_conf_idx  euribor3m  nr_employed  \n",
       "y                                                                         \n",
       "no       0.248875       93.603757     -40.593097   3.811491  5176.166600  \n",
       "yes     -1.233448       93.354386     -39.789784   2.123135  5095.115991  "
      ]
     },
     "execution_count": 13,
     "metadata": {},
     "output_type": "execute_result"
    }
   ],
   "source": [
    "bank_data.groupby('y').mean()"
   ]
  },
  {
   "cell_type": "code",
   "execution_count": 14,
   "metadata": {},
   "outputs": [
    {
     "data": {
      "text/plain": [
       "<matplotlib.axes._subplots.AxesSubplot at 0x11f0f7390>"
      ]
     },
     "execution_count": 14,
     "metadata": {},
     "output_type": "execute_result"
    },
    {
     "data": {
      "image/png": "[encoded data removed]",
      "text/plain": [
       "<Figure size 432x288 with 1 Axes>"
      ]
     },
     "metadata": {},
     "output_type": "display_data"
    }
   ],
   "source": [
    "# Check distribution of age\n",
    "%matplotlib inline\n",
    "sns.distplot(bank_data[\"age\"] )"
   ]
  },
  {
   "cell_type": "code",
   "execution_count": 15,
   "metadata": {},
   "outputs": [
    {
     "data": {
      "text/html": [
       "<div>\n",
       "<style scoped>\n",
       "    .dataframe tbody tr th:only-of-type {\n",
       "        vertical-align: middle;\n",
       "    }\n",
       "\n",
       "    .dataframe tbody tr th {\n",
       "        vertical-align: top;\n",
       "    }\n",
       "\n",
       "    .dataframe thead th {\n",
       "        text-align: right;\n",
       "    }\n",
       "</style>\n",
       "<table border=\"1\" class=\"dataframe\">\n",
       "  <thead>\n",
       "    <tr style=\"text-align: right;\">\n",
       "      <th></th>\n",
       "      <th>customer_no</th>\n",
       "      <th>age</th>\n",
       "      <th>duration</th>\n",
       "      <th>campaign</th>\n",
       "      <th>pdays</th>\n",
       "      <th>previous</th>\n",
       "      <th>emp_var_rate</th>\n",
       "      <th>cons_price_idx</th>\n",
       "      <th>cons_conf_idx</th>\n",
       "      <th>euribor3m</th>\n",
       "      <th>nr_employed</th>\n",
       "    </tr>\n",
       "    <tr>\n",
       "      <th>job</th>\n",
       "      <th></th>\n",
       "      <th></th>\n",
       "      <th></th>\n",
       "      <th></th>\n",
       "      <th></th>\n",
       "      <th></th>\n",
       "      <th></th>\n",
       "      <th></th>\n",
       "      <th></th>\n",
       "      <th></th>\n",
       "      <th></th>\n",
       "    </tr>\n",
       "  </thead>\n",
       "  <tbody>\n",
       "    <tr>\n",
       "      <th>admin.</th>\n",
       "      <td>21889.241604</td>\n",
       "      <td>38.187296</td>\n",
       "      <td>254.312128</td>\n",
       "      <td>2.623489</td>\n",
       "      <td>954.319229</td>\n",
       "      <td>0.189023</td>\n",
       "      <td>0.015563</td>\n",
       "      <td>93.534054</td>\n",
       "      <td>-40.245433</td>\n",
       "      <td>3.550274</td>\n",
       "      <td>5164.125350</td>\n",
       "    </tr>\n",
       "    <tr>\n",
       "      <th>blue-collar</th>\n",
       "      <td>17944.856819</td>\n",
       "      <td>39.555760</td>\n",
       "      <td>264.542360</td>\n",
       "      <td>2.558461</td>\n",
       "      <td>985.160363</td>\n",
       "      <td>0.122542</td>\n",
       "      <td>0.248995</td>\n",
       "      <td>93.656656</td>\n",
       "      <td>-41.375816</td>\n",
       "      <td>3.771996</td>\n",
       "      <td>5175.615150</td>\n",
       "    </tr>\n",
       "    <tr>\n",
       "      <th>entrepreneur</th>\n",
       "      <td>19220.407280</td>\n",
       "      <td>41.723214</td>\n",
       "      <td>263.267857</td>\n",
       "      <td>2.535714</td>\n",
       "      <td>981.267170</td>\n",
       "      <td>0.138736</td>\n",
       "      <td>0.158723</td>\n",
       "      <td>93.605372</td>\n",
       "      <td>-41.283654</td>\n",
       "      <td>3.791120</td>\n",
       "      <td>5176.313530</td>\n",
       "    </tr>\n",
       "    <tr>\n",
       "      <th>housemaid</th>\n",
       "      <td>18643.689623</td>\n",
       "      <td>45.500000</td>\n",
       "      <td>250.454717</td>\n",
       "      <td>2.639623</td>\n",
       "      <td>960.579245</td>\n",
       "      <td>0.137736</td>\n",
       "      <td>0.433396</td>\n",
       "      <td>93.676576</td>\n",
       "      <td>-39.495283</td>\n",
       "      <td>4.009645</td>\n",
       "      <td>5179.529623</td>\n",
       "    </tr>\n",
       "    <tr>\n",
       "      <th>management</th>\n",
       "      <td>21014.031806</td>\n",
       "      <td>42.362859</td>\n",
       "      <td>257.058140</td>\n",
       "      <td>2.476060</td>\n",
       "      <td>962.647059</td>\n",
       "      <td>0.185021</td>\n",
       "      <td>-0.012688</td>\n",
       "      <td>93.522755</td>\n",
       "      <td>-40.489466</td>\n",
       "      <td>3.611316</td>\n",
       "      <td>5166.650513</td>\n",
       "    </tr>\n",
       "    <tr>\n",
       "      <th>retired</th>\n",
       "      <td>26087.565698</td>\n",
       "      <td>62.027326</td>\n",
       "      <td>273.712209</td>\n",
       "      <td>2.476744</td>\n",
       "      <td>897.936047</td>\n",
       "      <td>0.327326</td>\n",
       "      <td>-0.698314</td>\n",
       "      <td>93.430786</td>\n",
       "      <td>-38.573081</td>\n",
       "      <td>2.770066</td>\n",
       "      <td>5122.262151</td>\n",
       "    </tr>\n",
       "    <tr>\n",
       "      <th>self-employed</th>\n",
       "      <td>20724.339198</td>\n",
       "      <td>39.949331</td>\n",
       "      <td>264.142153</td>\n",
       "      <td>2.660802</td>\n",
       "      <td>976.621393</td>\n",
       "      <td>0.143561</td>\n",
       "      <td>0.094159</td>\n",
       "      <td>93.559982</td>\n",
       "      <td>-40.488107</td>\n",
       "      <td>3.689376</td>\n",
       "      <td>5170.674384</td>\n",
       "    </tr>\n",
       "    <tr>\n",
       "      <th>services</th>\n",
       "      <td>18931.184681</td>\n",
       "      <td>37.926430</td>\n",
       "      <td>258.398085</td>\n",
       "      <td>2.587805</td>\n",
       "      <td>979.974049</td>\n",
       "      <td>0.154951</td>\n",
       "      <td>0.175359</td>\n",
       "      <td>93.634659</td>\n",
       "      <td>-41.290048</td>\n",
       "      <td>3.699187</td>\n",
       "      <td>5171.600126</td>\n",
       "    </tr>\n",
       "    <tr>\n",
       "      <th>student</th>\n",
       "      <td>30845.699429</td>\n",
       "      <td>25.894857</td>\n",
       "      <td>283.683429</td>\n",
       "      <td>2.104000</td>\n",
       "      <td>840.217143</td>\n",
       "      <td>0.524571</td>\n",
       "      <td>-1.408000</td>\n",
       "      <td>93.331613</td>\n",
       "      <td>-40.187543</td>\n",
       "      <td>1.884224</td>\n",
       "      <td>5085.939086</td>\n",
       "    </tr>\n",
       "    <tr>\n",
       "      <th>technician</th>\n",
       "      <td>20829.577636</td>\n",
       "      <td>38.507638</td>\n",
       "      <td>250.232241</td>\n",
       "      <td>2.577339</td>\n",
       "      <td>964.408127</td>\n",
       "      <td>0.153789</td>\n",
       "      <td>0.274566</td>\n",
       "      <td>93.561471</td>\n",
       "      <td>-39.927569</td>\n",
       "      <td>3.820401</td>\n",
       "      <td>5175.648391</td>\n",
       "    </tr>\n",
       "    <tr>\n",
       "      <th>unemployed</th>\n",
       "      <td>21889.059172</td>\n",
       "      <td>39.733728</td>\n",
       "      <td>249.451677</td>\n",
       "      <td>2.564103</td>\n",
       "      <td>935.316568</td>\n",
       "      <td>0.199211</td>\n",
       "      <td>-0.111736</td>\n",
       "      <td>93.563781</td>\n",
       "      <td>-40.007594</td>\n",
       "      <td>3.466583</td>\n",
       "      <td>5157.156509</td>\n",
       "    </tr>\n",
       "  </tbody>\n",
       "</table>\n",
       "</div>"
      ],
      "text/plain": [
       "                customer_no        age    duration  campaign       pdays  \\\n",
       "job                                                                        \n",
       "admin.         21889.241604  38.187296  254.312128  2.623489  954.319229   \n",
       "blue-collar    17944.856819  39.555760  264.542360  2.558461  985.160363   \n",
       "entrepreneur   19220.407280  41.723214  263.267857  2.535714  981.267170   \n",
       "housemaid      18643.689623  45.500000  250.454717  2.639623  960.579245   \n",
       "management     21014.031806  42.362859  257.058140  2.476060  962.647059   \n",
       "retired        26087.565698  62.027326  273.712209  2.476744  897.936047   \n",
       "self-employed  20724.339198  39.949331  264.142153  2.660802  976.621393   \n",
       "services       18931.184681  37.926430  258.398085  2.587805  979.974049   \n",
       "student        30845.699429  25.894857  283.683429  2.104000  840.217143   \n",
       "technician     20829.577636  38.507638  250.232241  2.577339  964.408127   \n",
       "unemployed     21889.059172  39.733728  249.451677  2.564103  935.316568   \n",
       "\n",
       "               previous  emp_var_rate  cons_price_idx  cons_conf_idx  \\\n",
       "job                                                                    \n",
       "admin.         0.189023      0.015563       93.534054     -40.245433   \n",
       "blue-collar    0.122542      0.248995       93.656656     -41.375816   \n",
       "entrepreneur   0.138736      0.158723       93.605372     -41.283654   \n",
       "housemaid      0.137736      0.433396       93.676576     -39.495283   \n",
       "management     0.185021     -0.012688       93.522755     -40.489466   \n",
       "retired        0.327326     -0.698314       93.430786     -38.573081   \n",
       "self-employed  0.143561      0.094159       93.559982     -40.488107   \n",
       "services       0.154951      0.175359       93.634659     -41.290048   \n",
       "student        0.524571     -1.408000       93.331613     -40.187543   \n",
       "technician     0.153789      0.274566       93.561471     -39.927569   \n",
       "unemployed     0.199211     -0.111736       93.563781     -40.007594   \n",
       "\n",
       "               euribor3m  nr_employed  \n",
       "job                                    \n",
       "admin.          3.550274  5164.125350  \n",
       "blue-collar     3.771996  5175.615150  \n",
       "entrepreneur    3.791120  5176.313530  \n",
       "housemaid       4.009645  5179.529623  \n",
       "management      3.611316  5166.650513  \n",
       "retired         2.770066  5122.262151  \n",
       "self-employed   3.689376  5170.674384  \n",
       "services        3.699187  5171.600126  \n",
       "student         1.884224  5085.939086  \n",
       "technician      3.820401  5175.648391  \n",
       "unemployed      3.466583  5157.156509  "
      ]
     },
     "execution_count": 15,
     "metadata": {},
     "output_type": "execute_result"
    }
   ],
   "source": [
    "# Does the kind of job matter to a subscription? (groupby job and aggregate by mean) \n",
    "# Extend to education, marital, etc.\n",
    "\n",
    "bank_data.groupby('job').mean()"
   ]
  },
  {
   "cell_type": "code",
   "execution_count": 16,
   "metadata": {},
   "outputs": [
    {
     "data": {
      "text/plain": [
       "admin.           0.293721\n",
       "technician       0.158592\n",
       "blue-collar      0.138605\n",
       "retired          0.094286\n",
       "management       0.071258\n",
       "services         0.070172\n",
       "student          0.059744\n",
       "self-employed    0.032370\n",
       "unemployed       0.031284\n",
       "entrepreneur     0.026939\n",
       "housemaid        0.023028\n",
       "Name: job, dtype: float64"
      ]
     },
     "execution_count": 16,
     "metadata": {},
     "output_type": "execute_result"
    }
   ],
   "source": [
    "# Who are subscribing the most across job ranks?\n",
    "bank_data[bank_data.y == 'yes'].job.value_counts(normalize=True)"
   ]
  },
  {
   "cell_type": "markdown",
   "metadata": {},
   "source": [
    "### _Some Insights from the EDA done above_\n",
    "\n",
    "* Number of Campaigns are lower for people who subscribed!\n",
    "\n",
    "* People who subscribed for a term deposit are older (average age)\n",
    "\n",
    "* customer_no attribute looks to be providing no value. Hence can be removed\n",
    "\n",
    "* Few attributes such as job, marital, education, credit_default, housing, loan, contact, contacted_month, day_of_week, poutcome and y are categorical but are interpreted as object type. "
   ]
  },
  {
   "cell_type": "markdown",
   "metadata": {},
   "source": [
    "### _Feature Engineering_"
   ]
  },
  {
   "cell_type": "markdown",
   "metadata": {},
   "source": [
    "#### _Fix levels of categorical variable by domain_"
   ]
  },
  {
   "cell_type": "code",
   "execution_count": 17,
   "metadata": {},
   "outputs": [
    {
     "name": "stdout",
     "output_type": "stream",
     "text": [
      "university.degree      12168\n",
      "high.school             9515\n",
      "basic.9y                6045\n",
      "professional.course     5243\n",
      "basic.4y                4176\n",
      "basic.6y                2292\n",
      "illiterate                18\n",
      "Name: education, dtype: int64\n"
     ]
    }
   ],
   "source": [
    "# Check levels of education. Is there anything wrong?\n",
    "print(bank_data.education.value_counts())\n",
    "\n",
    "# clean up basic level \n",
    "bank_data.replace(['basic.6y','basic.4y', 'basic.9y'], 'basic', inplace=True)"
   ]
  },
  {
   "cell_type": "code",
   "execution_count": 18,
   "metadata": {},
   "outputs": [
    {
     "data": {
      "text/plain": [
       "basic                  12513\n",
       "university.degree      12168\n",
       "high.school             9515\n",
       "professional.course     5243\n",
       "illiterate                18\n",
       "Name: education, dtype: int64"
      ]
     },
     "execution_count": 18,
     "metadata": {},
     "output_type": "execute_result"
    }
   ],
   "source": [
    "bank_data.education.value_counts()"
   ]
  },
  {
   "cell_type": "markdown",
   "metadata": {},
   "source": [
    "#### _Drop Unnecessary variables_"
   ]
  },
  {
   "cell_type": "code",
   "execution_count": 19,
   "metadata": {},
   "outputs": [
    {
     "data": {
      "text/html": [
       "<div>\n",
       "<style scoped>\n",
       "    .dataframe tbody tr th:only-of-type {\n",
       "        vertical-align: middle;\n",
       "    }\n",
       "\n",
       "    .dataframe tbody tr th {\n",
       "        vertical-align: top;\n",
       "    }\n",
       "\n",
       "    .dataframe thead th {\n",
       "        text-align: right;\n",
       "    }\n",
       "</style>\n",
       "<table border=\"1\" class=\"dataframe\">\n",
       "  <thead>\n",
       "    <tr style=\"text-align: right;\">\n",
       "      <th></th>\n",
       "      <th>age</th>\n",
       "      <th>job</th>\n",
       "      <th>marital</th>\n",
       "      <th>education</th>\n",
       "      <th>credit_default</th>\n",
       "      <th>housing</th>\n",
       "      <th>loan</th>\n",
       "      <th>contact</th>\n",
       "      <th>contacted_month</th>\n",
       "      <th>day_of_week</th>\n",
       "      <th>...</th>\n",
       "      <th>campaign</th>\n",
       "      <th>pdays</th>\n",
       "      <th>previous</th>\n",
       "      <th>poutcome</th>\n",
       "      <th>emp_var_rate</th>\n",
       "      <th>cons_price_idx</th>\n",
       "      <th>cons_conf_idx</th>\n",
       "      <th>euribor3m</th>\n",
       "      <th>nr_employed</th>\n",
       "      <th>y</th>\n",
       "    </tr>\n",
       "  </thead>\n",
       "  <tbody>\n",
       "    <tr>\n",
       "      <th>0</th>\n",
       "      <td>56</td>\n",
       "      <td>housemaid</td>\n",
       "      <td>married</td>\n",
       "      <td>basic</td>\n",
       "      <td>no</td>\n",
       "      <td>no</td>\n",
       "      <td>no</td>\n",
       "      <td>telephone</td>\n",
       "      <td>may</td>\n",
       "      <td>mon</td>\n",
       "      <td>...</td>\n",
       "      <td>1</td>\n",
       "      <td>999</td>\n",
       "      <td>0</td>\n",
       "      <td>nonexistent</td>\n",
       "      <td>1.1</td>\n",
       "      <td>93.994</td>\n",
       "      <td>-36.4</td>\n",
       "      <td>4.857</td>\n",
       "      <td>5191.0</td>\n",
       "      <td>no</td>\n",
       "    </tr>\n",
       "    <tr>\n",
       "      <th>1</th>\n",
       "      <td>57</td>\n",
       "      <td>services</td>\n",
       "      <td>married</td>\n",
       "      <td>high.school</td>\n",
       "      <td>NaN</td>\n",
       "      <td>no</td>\n",
       "      <td>no</td>\n",
       "      <td>telephone</td>\n",
       "      <td>may</td>\n",
       "      <td>mon</td>\n",
       "      <td>...</td>\n",
       "      <td>1</td>\n",
       "      <td>999</td>\n",
       "      <td>0</td>\n",
       "      <td>nonexistent</td>\n",
       "      <td>1.1</td>\n",
       "      <td>93.994</td>\n",
       "      <td>-36.4</td>\n",
       "      <td>4.857</td>\n",
       "      <td>5191.0</td>\n",
       "      <td>no</td>\n",
       "    </tr>\n",
       "    <tr>\n",
       "      <th>2</th>\n",
       "      <td>37</td>\n",
       "      <td>services</td>\n",
       "      <td>married</td>\n",
       "      <td>high.school</td>\n",
       "      <td>no</td>\n",
       "      <td>yes</td>\n",
       "      <td>no</td>\n",
       "      <td>telephone</td>\n",
       "      <td>may</td>\n",
       "      <td>mon</td>\n",
       "      <td>...</td>\n",
       "      <td>1</td>\n",
       "      <td>999</td>\n",
       "      <td>0</td>\n",
       "      <td>nonexistent</td>\n",
       "      <td>1.1</td>\n",
       "      <td>93.994</td>\n",
       "      <td>-36.4</td>\n",
       "      <td>4.857</td>\n",
       "      <td>5191.0</td>\n",
       "      <td>no</td>\n",
       "    </tr>\n",
       "    <tr>\n",
       "      <th>3</th>\n",
       "      <td>40</td>\n",
       "      <td>admin.</td>\n",
       "      <td>married</td>\n",
       "      <td>basic</td>\n",
       "      <td>no</td>\n",
       "      <td>no</td>\n",
       "      <td>no</td>\n",
       "      <td>telephone</td>\n",
       "      <td>may</td>\n",
       "      <td>mon</td>\n",
       "      <td>...</td>\n",
       "      <td>1</td>\n",
       "      <td>999</td>\n",
       "      <td>0</td>\n",
       "      <td>nonexistent</td>\n",
       "      <td>1.1</td>\n",
       "      <td>93.994</td>\n",
       "      <td>-36.4</td>\n",
       "      <td>4.857</td>\n",
       "      <td>5191.0</td>\n",
       "      <td>no</td>\n",
       "    </tr>\n",
       "    <tr>\n",
       "      <th>4</th>\n",
       "      <td>56</td>\n",
       "      <td>services</td>\n",
       "      <td>married</td>\n",
       "      <td>high.school</td>\n",
       "      <td>no</td>\n",
       "      <td>no</td>\n",
       "      <td>yes</td>\n",
       "      <td>telephone</td>\n",
       "      <td>may</td>\n",
       "      <td>mon</td>\n",
       "      <td>...</td>\n",
       "      <td>1</td>\n",
       "      <td>999</td>\n",
       "      <td>0</td>\n",
       "      <td>nonexistent</td>\n",
       "      <td>1.1</td>\n",
       "      <td>93.994</td>\n",
       "      <td>-36.4</td>\n",
       "      <td>4.857</td>\n",
       "      <td>5191.0</td>\n",
       "      <td>no</td>\n",
       "    </tr>\n",
       "  </tbody>\n",
       "</table>\n",
       "<p>5 rows × 21 columns</p>\n",
       "</div>"
      ],
      "text/plain": [
       "   age        job  marital    education credit_default housing loan  \\\n",
       "0   56  housemaid  married        basic             no      no   no   \n",
       "1   57   services  married  high.school            NaN      no   no   \n",
       "2   37   services  married  high.school             no     yes   no   \n",
       "3   40     admin.  married        basic             no      no   no   \n",
       "4   56   services  married  high.school             no      no  yes   \n",
       "\n",
       "     contact contacted_month day_of_week ...  campaign  pdays  previous  \\\n",
       "0  telephone             may         mon ...         1    999         0   \n",
       "1  telephone             may         mon ...         1    999         0   \n",
       "2  telephone             may         mon ...         1    999         0   \n",
       "3  telephone             may         mon ...         1    999         0   \n",
       "4  telephone             may         mon ...         1    999         0   \n",
       "\n",
       "      poutcome emp_var_rate  cons_price_idx  cons_conf_idx  euribor3m  \\\n",
       "0  nonexistent          1.1          93.994          -36.4      4.857   \n",
       "1  nonexistent          1.1          93.994          -36.4      4.857   \n",
       "2  nonexistent          1.1          93.994          -36.4      4.857   \n",
       "3  nonexistent          1.1          93.994          -36.4      4.857   \n",
       "4  nonexistent          1.1          93.994          -36.4      4.857   \n",
       "\n",
       "   nr_employed   y  \n",
       "0       5191.0  no  \n",
       "1       5191.0  no  \n",
       "2       5191.0  no  \n",
       "3       5191.0  no  \n",
       "4       5191.0  no  \n",
       "\n",
       "[5 rows x 21 columns]"
      ]
     },
     "execution_count": 19,
     "metadata": {},
     "output_type": "execute_result"
    }
   ],
   "source": [
    "bank_data.drop(\"customer_no\", axis = 1, inplace= True)\n",
    "test_data.drop(\"customer_no\", axis = 1, inplace= True)\n",
    "\n",
    "bank_data.head()"
   ]
  },
  {
   "cell_type": "code",
   "execution_count": 20,
   "metadata": {},
   "outputs": [
    {
     "data": {
      "text/plain": [
       "(4119, 21)"
      ]
     },
     "execution_count": 20,
     "metadata": {},
     "output_type": "execute_result"
    }
   ],
   "source": [
    "test_data.shape"
   ]
  },
  {
   "cell_type": "markdown",
   "metadata": {},
   "source": [
    "#### _Type Casting_"
   ]
  },
  {
   "cell_type": "code",
   "execution_count": 21,
   "metadata": {},
   "outputs": [],
   "source": [
    "for col in ['job', 'marital', 'education', 'credit_default', 'housing', 'loan', 'contact', 'contacted_month', 'day_of_week', 'poutcome', 'y']:\n",
    "    bank_data[col] = bank_data[col].astype('category')"
   ]
  },
  {
   "cell_type": "markdown",
   "metadata": {},
   "source": [
    "> How to choose between category and object:\n",
    "\n",
    "reference : https://stackoverflow.com/questions/30601830/when-to-use-category-rather-than-object\n",
    "\n",
    "The categorical data type is useful in the following cases:\n",
    "\n",
    "* A string variable consisting of only a few different values. Converting such a string variable to a categorical variable will save some memory\n",
    "* The lexical order of a variable is not the same as the logical order (“one”, “two”, “three”). By converting to a categorical and specifying an order on the categories, sorting and min/max will use the logical order instead of the lexical order\n",
    "* As a signal to other Python libraries that this column should be treated as a categorical variable (e.g. to use suitable statistical methods or plot types)."
   ]
  },
  {
   "cell_type": "code",
   "execution_count": 22,
   "metadata": {},
   "outputs": [
    {
     "data": {
      "text/plain": [
       "age                   int64\n",
       "job                category\n",
       "marital            category\n",
       "education          category\n",
       "credit_default     category\n",
       "housing            category\n",
       "loan               category\n",
       "contact            category\n",
       "contacted_month    category\n",
       "day_of_week        category\n",
       "duration              int64\n",
       "campaign              int64\n",
       "pdays                 int64\n",
       "previous              int64\n",
       "poutcome           category\n",
       "emp_var_rate        float64\n",
       "cons_price_idx      float64\n",
       "cons_conf_idx       float64\n",
       "euribor3m           float64\n",
       "nr_employed         float64\n",
       "y                  category\n",
       "dtype: object"
      ]
     },
     "execution_count": 22,
     "metadata": {},
     "output_type": "execute_result"
    }
   ],
   "source": [
    "bank_data.dtypes"
   ]
  },
  {
   "cell_type": "markdown",
   "metadata": {},
   "source": [
    "#### Split Numeric and Categorical Columns"
   ]
  },
  {
   "cell_type": "code",
   "execution_count": 23,
   "metadata": {},
   "outputs": [
    {
     "data": {
      "text/plain": [
       "'y'"
      ]
     },
     "execution_count": 23,
     "metadata": {},
     "output_type": "execute_result"
    }
   ],
   "source": [
    "cat_attr = list(bank_data.select_dtypes(\"category\").columns)\n",
    "num_attr = list(bank_data.columns.difference(cat_attr))\n",
    "\n",
    "cat_attr.pop()"
   ]
  },
  {
   "cell_type": "code",
   "execution_count": 24,
   "metadata": {},
   "outputs": [
    {
     "data": {
      "text/plain": [
       "['job',\n",
       " 'marital',\n",
       " 'education',\n",
       " 'credit_default',\n",
       " 'housing',\n",
       " 'loan',\n",
       " 'contact',\n",
       " 'contacted_month',\n",
       " 'day_of_week',\n",
       " 'poutcome']"
      ]
     },
     "execution_count": 24,
     "metadata": {},
     "output_type": "execute_result"
    }
   ],
   "source": [
    "cat_attr"
   ]
  },
  {
   "cell_type": "code",
   "execution_count": 25,
   "metadata": {},
   "outputs": [
    {
     "data": {
      "text/plain": [
       "['age',\n",
       " 'campaign',\n",
       " 'cons_conf_idx',\n",
       " 'cons_price_idx',\n",
       " 'duration',\n",
       " 'emp_var_rate',\n",
       " 'euribor3m',\n",
       " 'nr_employed',\n",
       " 'pdays',\n",
       " 'previous']"
      ]
     },
     "execution_count": 25,
     "metadata": {},
     "output_type": "execute_result"
    }
   ],
   "source": [
    "num_attr"
   ]
  },
  {
   "cell_type": "markdown",
   "metadata": {},
   "source": [
    "#### _Handle Missing Values_"
   ]
  },
  {
   "cell_type": "code",
   "execution_count": 26,
   "metadata": {},
   "outputs": [
    {
     "data": {
      "text/plain": [
       "age                   0\n",
       "job                 330\n",
       "marital              80\n",
       "education          1731\n",
       "credit_default     8597\n",
       "housing             990\n",
       "loan                990\n",
       "contact               0\n",
       "contacted_month       0\n",
       "day_of_week           0\n",
       "duration              0\n",
       "campaign              0\n",
       "pdays                 0\n",
       "previous              0\n",
       "poutcome              0\n",
       "emp_var_rate          0\n",
       "cons_price_idx        0\n",
       "cons_conf_idx         0\n",
       "euribor3m             0\n",
       "nr_employed           0\n",
       "y                     0\n",
       "dtype: int64"
      ]
     },
     "execution_count": 26,
     "metadata": {},
     "output_type": "execute_result"
    }
   ],
   "source": [
    "bank_data.isnull().sum()"
   ]
  },
  {
   "cell_type": "code",
   "execution_count": 27,
   "metadata": {},
   "outputs": [
    {
     "data": {
      "text/plain": [
       "Index(['job', 'marital', 'education', 'credit_default', 'housing', 'loan'], dtype='object')"
      ]
     },
     "execution_count": 27,
     "metadata": {},
     "output_type": "execute_result"
    }
   ],
   "source": [
    "# print columns with missing values\n",
    "missing_cols = bank_data.columns[bank_data.isnull().any()]\n",
    "missing_cols"
   ]
  },
  {
   "cell_type": "markdown",
   "metadata": {},
   "source": [
    "## Sklearn pipelines\n",
    "\n",
    "Pipelines are a way to streamline a lot of the routine processes, encapsulating little pieces of logic into one function call, which makes it easier to actually do modeling instead just writing a bunch of code.\n",
    "\n",
    "Pipelines are set up with the fit/transform/predict functionality, so you can fit a whole pipeline to the training data and transform to the test data, without having to do it individually for each thing you do. Super convenienent, right?\n",
    "\n",
    "Steps to follow to create a pipeline\n",
    "\n",
    "Step 1) Fetch the numerical and categorical columns\n",
    "\n",
    "Step 2) Create a transformer/pipeline for numerical attributes\n",
    "\n",
    "    Create a list of tuples where each tuple represents the operation to be performed on numerical attributes\n",
    "\n",
    "Step 3) Create a transformer/pipeline for categorical attributes\n",
    "\n",
    "    Create a list of tuples where each tuple represent the operation to be performed on categorical attributes\n",
    "\n",
    "Step 4) Create a ColumnTransformer which merges both the numerical and categorical transformers\n",
    "\n",
    "Step5) Create a final pipeline object which includes the ColumnTransformer and an estimator (an algorithm to be build on dataset)\n",
    "\n",
    "Step6) (optional) Create a GridSearchCV object with pipeline as one of the inputs along with hyperparameter grid and Cross validation object\n",
    "\n",
    "Step7) Apply fit() on train data and predict() on test data <br><br>\n",
    "\n",
    "**TL; DR**\n",
    "Pipeline is a collection of transformers chained together and operate sequentially. (often ending with an estimator)\n",
    "\n",
    "__Bird's view of sklearn pipeline__\n",
    "\n",
    "<img src=\"Pipeline_broadview.png\"><br><br>\n",
    "\n",
    "__Train and Test dataflow inside the sklearn pipeline__\n",
    "<img src=\"fit_tranform.jpg\">"
   ]
  },
  {
   "cell_type": "markdown",
   "metadata": {},
   "source": [
    "#### _Instantiate Pre-processing Objects for Pipeline_"
   ]
  },
  {
   "cell_type": "code",
   "execution_count": 28,
   "metadata": {},
   "outputs": [],
   "source": [
    "numeric_transformer = Pipeline(steps=[\n",
    "    ('imputer', SimpleImputer(strategy='median')),\n",
    "    ('scaler', StandardScaler())])\n",
    "\n",
    "\n",
    "categorical_transformer = Pipeline(steps=[\n",
    "    ('imputer', SimpleImputer(strategy='most_frequent', fill_value='missing')),\n",
    "    ('onehot', OneHotEncoder(handle_unknown='ignore'))])\n",
    "\n",
    "preprocessor = ColumnTransformer(\n",
    "    transformers=[\n",
    "        ('num', numeric_transformer, num_attr),\n",
    "        ('cat', categorical_transformer, cat_attr)])"
   ]
  },
  {
   "cell_type": "markdown",
   "metadata": {},
   "source": [
    "#### _Instantiate Pipeline Object_"
   ]
  },
  {
   "cell_type": "code",
   "execution_count": 29,
   "metadata": {},
   "outputs": [],
   "source": [
    "clf_logreg = Pipeline(steps=[('preprocessor', preprocessor),\n",
    "                      ('classifier', LogisticRegression())])"
   ]
  },
  {
   "cell_type": "markdown",
   "metadata": {},
   "source": [
    "### _Train-Test Split_"
   ]
  },
  {
   "cell_type": "code",
   "execution_count": 30,
   "metadata": {},
   "outputs": [],
   "source": [
    "X_train, y_train = bank_data.loc[:,bank_data.columns!='y'], bank_data.loc[:,'y']\n",
    "\n",
    "X_test, y_test = test_data.loc[:,test_data.columns!='y'], test_data.loc[:,'y']"
   ]
  },
  {
   "cell_type": "code",
   "execution_count": 31,
   "metadata": {
    "scrolled": true
   },
   "outputs": [
    {
     "data": {
      "text/html": [
       "<div>\n",
       "<style scoped>\n",
       "    .dataframe tbody tr th:only-of-type {\n",
       "        vertical-align: middle;\n",
       "    }\n",
       "\n",
       "    .dataframe tbody tr th {\n",
       "        vertical-align: top;\n",
       "    }\n",
       "\n",
       "    .dataframe thead th {\n",
       "        text-align: right;\n",
       "    }\n",
       "</style>\n",
       "<table border=\"1\" class=\"dataframe\">\n",
       "  <thead>\n",
       "    <tr style=\"text-align: right;\">\n",
       "      <th></th>\n",
       "      <th>age</th>\n",
       "      <th>job</th>\n",
       "      <th>marital</th>\n",
       "      <th>education</th>\n",
       "      <th>credit_default</th>\n",
       "      <th>housing</th>\n",
       "      <th>loan</th>\n",
       "      <th>contact</th>\n",
       "      <th>contacted_month</th>\n",
       "      <th>day_of_week</th>\n",
       "      <th>duration</th>\n",
       "      <th>campaign</th>\n",
       "      <th>pdays</th>\n",
       "      <th>previous</th>\n",
       "      <th>poutcome</th>\n",
       "      <th>emp_var_rate</th>\n",
       "      <th>cons_price_idx</th>\n",
       "      <th>cons_conf_idx</th>\n",
       "      <th>euribor3m</th>\n",
       "      <th>nr_employed</th>\n",
       "    </tr>\n",
       "  </thead>\n",
       "  <tbody>\n",
       "    <tr>\n",
       "      <th>0</th>\n",
       "      <td>56</td>\n",
       "      <td>housemaid</td>\n",
       "      <td>married</td>\n",
       "      <td>basic</td>\n",
       "      <td>no</td>\n",
       "      <td>no</td>\n",
       "      <td>no</td>\n",
       "      <td>telephone</td>\n",
       "      <td>may</td>\n",
       "      <td>mon</td>\n",
       "      <td>261</td>\n",
       "      <td>1</td>\n",
       "      <td>999</td>\n",
       "      <td>0</td>\n",
       "      <td>nonexistent</td>\n",
       "      <td>1.1</td>\n",
       "      <td>93.994</td>\n",
       "      <td>-36.4</td>\n",
       "      <td>4.857</td>\n",
       "      <td>5191.0</td>\n",
       "    </tr>\n",
       "    <tr>\n",
       "      <th>1</th>\n",
       "      <td>57</td>\n",
       "      <td>services</td>\n",
       "      <td>married</td>\n",
       "      <td>high.school</td>\n",
       "      <td>NaN</td>\n",
       "      <td>no</td>\n",
       "      <td>no</td>\n",
       "      <td>telephone</td>\n",
       "      <td>may</td>\n",
       "      <td>mon</td>\n",
       "      <td>149</td>\n",
       "      <td>1</td>\n",
       "      <td>999</td>\n",
       "      <td>0</td>\n",
       "      <td>nonexistent</td>\n",
       "      <td>1.1</td>\n",
       "      <td>93.994</td>\n",
       "      <td>-36.4</td>\n",
       "      <td>4.857</td>\n",
       "      <td>5191.0</td>\n",
       "    </tr>\n",
       "    <tr>\n",
       "      <th>2</th>\n",
       "      <td>37</td>\n",
       "      <td>services</td>\n",
       "      <td>married</td>\n",
       "      <td>high.school</td>\n",
       "      <td>no</td>\n",
       "      <td>yes</td>\n",
       "      <td>no</td>\n",
       "      <td>telephone</td>\n",
       "      <td>may</td>\n",
       "      <td>mon</td>\n",
       "      <td>226</td>\n",
       "      <td>1</td>\n",
       "      <td>999</td>\n",
       "      <td>0</td>\n",
       "      <td>nonexistent</td>\n",
       "      <td>1.1</td>\n",
       "      <td>93.994</td>\n",
       "      <td>-36.4</td>\n",
       "      <td>4.857</td>\n",
       "      <td>5191.0</td>\n",
       "    </tr>\n",
       "    <tr>\n",
       "      <th>3</th>\n",
       "      <td>40</td>\n",
       "      <td>admin.</td>\n",
       "      <td>married</td>\n",
       "      <td>basic</td>\n",
       "      <td>no</td>\n",
       "      <td>no</td>\n",
       "      <td>no</td>\n",
       "      <td>telephone</td>\n",
       "      <td>may</td>\n",
       "      <td>mon</td>\n",
       "      <td>151</td>\n",
       "      <td>1</td>\n",
       "      <td>999</td>\n",
       "      <td>0</td>\n",
       "      <td>nonexistent</td>\n",
       "      <td>1.1</td>\n",
       "      <td>93.994</td>\n",
       "      <td>-36.4</td>\n",
       "      <td>4.857</td>\n",
       "      <td>5191.0</td>\n",
       "    </tr>\n",
       "    <tr>\n",
       "      <th>4</th>\n",
       "      <td>56</td>\n",
       "      <td>services</td>\n",
       "      <td>married</td>\n",
       "      <td>high.school</td>\n",
       "      <td>no</td>\n",
       "      <td>no</td>\n",
       "      <td>yes</td>\n",
       "      <td>telephone</td>\n",
       "      <td>may</td>\n",
       "      <td>mon</td>\n",
       "      <td>307</td>\n",
       "      <td>1</td>\n",
       "      <td>999</td>\n",
       "      <td>0</td>\n",
       "      <td>nonexistent</td>\n",
       "      <td>1.1</td>\n",
       "      <td>93.994</td>\n",
       "      <td>-36.4</td>\n",
       "      <td>4.857</td>\n",
       "      <td>5191.0</td>\n",
       "    </tr>\n",
       "  </tbody>\n",
       "</table>\n",
       "</div>"
      ],
      "text/plain": [
       "   age        job  marital    education credit_default housing loan  \\\n",
       "0   56  housemaid  married        basic             no      no   no   \n",
       "1   57   services  married  high.school            NaN      no   no   \n",
       "2   37   services  married  high.school             no     yes   no   \n",
       "3   40     admin.  married        basic             no      no   no   \n",
       "4   56   services  married  high.school             no      no  yes   \n",
       "\n",
       "     contact contacted_month day_of_week  duration  campaign  pdays  previous  \\\n",
       "0  telephone             may         mon       261         1    999         0   \n",
       "1  telephone             may         mon       149         1    999         0   \n",
       "2  telephone             may         mon       226         1    999         0   \n",
       "3  telephone             may         mon       151         1    999         0   \n",
       "4  telephone             may         mon       307         1    999         0   \n",
       "\n",
       "      poutcome  emp_var_rate  cons_price_idx  cons_conf_idx  euribor3m  \\\n",
       "0  nonexistent           1.1          93.994          -36.4      4.857   \n",
       "1  nonexistent           1.1          93.994          -36.4      4.857   \n",
       "2  nonexistent           1.1          93.994          -36.4      4.857   \n",
       "3  nonexistent           1.1          93.994          -36.4      4.857   \n",
       "4  nonexistent           1.1          93.994          -36.4      4.857   \n",
       "\n",
       "   nr_employed  \n",
       "0       5191.0  \n",
       "1       5191.0  \n",
       "2       5191.0  \n",
       "3       5191.0  \n",
       "4       5191.0  "
      ]
     },
     "execution_count": 31,
     "metadata": {},
     "output_type": "execute_result"
    }
   ],
   "source": [
    "X_train.head()"
   ]
  },
  {
   "cell_type": "markdown",
   "metadata": {},
   "source": [
    "### _Build Logistic Regression Model - 1_"
   ]
  },
  {
   "cell_type": "code",
   "execution_count": 32,
   "metadata": {},
   "outputs": [
    {
     "data": {
      "text/plain": [
       "Pipeline(memory=None,\n",
       "     steps=[('preprocessor', ColumnTransformer(n_jobs=None, remainder='drop', sparse_threshold=0.3,\n",
       "         transformer_weights=None,\n",
       "         transformers=[('num', Pipeline(memory=None,\n",
       "     steps=[('imputer', SimpleImputer(copy=True, fill_value=None, missing_values=nan,\n",
       "       strategy='median', verbo...penalty='l2', random_state=None, solver='warn',\n",
       "          tol=0.0001, verbose=0, warm_start=False))])"
      ]
     },
     "execution_count": 32,
     "metadata": {},
     "output_type": "execute_result"
    }
   ],
   "source": [
    "clf_logreg.fit(X_train, y_train)"
   ]
  },
  {
   "cell_type": "markdown",
   "metadata": {},
   "source": [
    "### _Evaluate Model_"
   ]
  },
  {
   "cell_type": "code",
   "execution_count": 33,
   "metadata": {},
   "outputs": [
    {
     "name": "stdout",
     "output_type": "stream",
     "text": [
      "0.9112848402447314\n",
      "0.9092012624423403\n",
      "[[35568   980]\n",
      " [ 2674  1966]]\n"
     ]
    },
    {
     "data": {
      "text/plain": [
       "array([[3551,  106],\n",
       "       [ 268,  194]])"
      ]
     },
     "execution_count": 33,
     "metadata": {},
     "output_type": "execute_result"
    }
   ],
   "source": [
    "train_pred = clf_logreg.predict(X_train)\n",
    "test_pred = clf_logreg.predict(X_test)\n",
    "\n",
    "print(clf_logreg.score(X_train, y_train))\n",
    "print(clf_logreg.score(X_test, y_test))\n",
    "\n",
    "print(confusion_matrix(y_true=y_train, y_pred = train_pred, labels = ['no', 'yes']))\n",
    "\n",
    "confusion_matrix_test = confusion_matrix(y_true=y_test, y_pred =  test_pred)\n",
    "confusion_matrix_test"
   ]
  },
  {
   "cell_type": "code",
   "execution_count": 34,
   "metadata": {},
   "outputs": [
    {
     "name": "stdout",
     "output_type": "stream",
     "text": [
      "Test Precision:  0.6466666666666666\n",
      "Test Recall:  0.4199134199134199\n",
      "Test Accuracy:  0.9092012624423403\n"
     ]
    }
   ],
   "source": [
    "Accuracy_test=(confusion_matrix_test[0,0]+confusion_matrix_test[1,1])/(confusion_matrix_test[0,0]+confusion_matrix_test[0,1]+confusion_matrix_test[1,0]+confusion_matrix_test[1,1])\n",
    "\n",
    "Precision_Test= confusion_matrix_test[1,1]/(confusion_matrix_test[1,1]+confusion_matrix_test[0,1])\n",
    "Recall_Test= confusion_matrix_test[1,1]/(confusion_matrix_test[1,0]+confusion_matrix_test[1,1])\n",
    "\n",
    "print(\"Test Precision: \",Precision_Test)\n",
    "print(\"Test Recall: \",Recall_Test)\n",
    "print(\"Test Accuracy: \",Accuracy_test)"
   ]
  },
  {
   "cell_type": "markdown",
   "metadata": {},
   "source": [
    "#### Using the function to calculate accuracy, precision and recall."
   ]
  },
  {
   "cell_type": "code",
   "execution_count": 35,
   "metadata": {},
   "outputs": [
    {
     "name": "stdout",
     "output_type": "stream",
     "text": [
      "Test Precision:  0.6466666666666666\n",
      "Test Recall:  0.4199134199134199\n",
      "Test Accuracy:  0.9092012624423403\n"
     ]
    }
   ],
   "source": [
    "accuracy_precision_recall_metrics(y_true = y_test, y_pred = test_pred)"
   ]
  },
  {
   "cell_type": "markdown",
   "metadata": {},
   "source": [
    "### _Build Decision Tree Model - 2_"
   ]
  },
  {
   "cell_type": "code",
   "execution_count": 36,
   "metadata": {},
   "outputs": [
    {
     "name": "stdout",
     "output_type": "stream",
     "text": [
      "CPU times: user 13min 30s, sys: 46 s, total: 14min 16s\n",
      "Wall time: 14min 17s\n"
     ]
    }
   ],
   "source": [
    "%%time\n",
    "clf_dt = Pipeline(steps=[('preprocessor', preprocessor),\n",
    "                      ('classifier', DecisionTreeClassifier())])\n",
    "\n",
    "dt_param_grid = {'classifier__criterion': ['entropy', 'gini'], 'classifier__max_depth': [6,8,10,12], \n",
    "                 \"classifier__min_samples_split\": [2, 10, 20],\"classifier__min_samples_leaf\": [1, 5, 10]}\n",
    "\n",
    "dt_grid = GridSearchCV(clf_dt, param_grid=dt_param_grid, cv=5)\n",
    "\n",
    "dt_grid.fit(X_train,y_train)"
   ]
  },
  {
   "cell_type": "code",
   "execution_count": 37,
   "metadata": {},
   "outputs": [
    {
     "data": {
      "text/plain": [
       "{'classifier__criterion': 'entropy',\n",
       " 'classifier__max_depth': 6,\n",
       " 'classifier__min_samples_leaf': 1,\n",
       " 'classifier__min_samples_split': 2}"
      ]
     },
     "execution_count": 37,
     "metadata": {},
     "output_type": "execute_result"
    }
   ],
   "source": [
    "dt_grid.best_params_"
   ]
  },
  {
   "cell_type": "code",
   "execution_count": 38,
   "metadata": {},
   "outputs": [
    {
     "name": "stdout",
     "output_type": "stream",
     "text": [
      "0.9180586578615131\n",
      "0.9210973537266327\n"
     ]
    }
   ],
   "source": [
    "train_pred = dt_grid.predict(X_train)\n",
    "test_pred = dt_grid.predict(X_test)\n",
    "\n",
    "print(dt_grid.score(X_train, y_train))\n",
    "print(dt_grid.score(X_test, y_test))"
   ]
  },
  {
   "cell_type": "code",
   "execution_count": 39,
   "metadata": {},
   "outputs": [
    {
     "name": "stdout",
     "output_type": "stream",
     "text": [
      "Test Precision:  0.7120743034055728\n",
      "Test Recall:  0.49783549783549785\n",
      "Test Accuracy:  0.9210973537266327\n"
     ]
    }
   ],
   "source": [
    "# Using the function to calculate accuracy, precision and recall.\n",
    "accuracy_precision_recall_metrics(y_true = y_test, y_pred = test_pred)"
   ]
  },
  {
   "cell_type": "markdown",
   "metadata": {},
   "source": [
    "### _Build Random Forest Model - 3_ (Using Stratified KFold)\n",
    "\n",
    "__Stratified K-Folds cross-validator__\n",
    "\n",
    "This cross-validation object is a **variation** of KFold that returns stratified folds. The folds are made by **preserving the percentage of samples for each class**."
   ]
  },
  {
   "cell_type": "code",
   "execution_count": 40,
   "metadata": {},
   "outputs": [],
   "source": [
    "clf = Pipeline(steps=[('preprocessor', preprocessor),\n",
    "                      ('classifier', RandomForestClassifier())])"
   ]
  },
  {
   "cell_type": "code",
   "execution_count": 41,
   "metadata": {},
   "outputs": [],
   "source": [
    "kfold = StratifiedKFold(n_splits=5, shuffle=True, random_state=143)\n",
    "\n",
    "param_grid = {\"classifier__n_estimators\" : [150, 250, 300],\n",
    "              \"classifier__max_depth\" : [5,8,10],\n",
    "              \"classifier__max_features\" : [3, 5, 7],\n",
    "              \"classifier__min_samples_leaf\" : [4, 6, 8, 10]}\n",
    "\n",
    "rf_grid = GridSearchCV(clf, param_grid= param_grid, cv=kfold)"
   ]
  },
  {
   "cell_type": "code",
   "execution_count": 42,
   "metadata": {},
   "outputs": [
    {
     "name": "stdout",
     "output_type": "stream",
     "text": [
      "CPU times: user 11min 2s, sys: 192 ms, total: 11min 2s\n",
      "Wall time: 11min 2s\n"
     ]
    },
    {
     "data": {
      "text/plain": [
       "GridSearchCV(cv=StratifiedKFold(n_splits=5, random_state=143, shuffle=True),\n",
       "             error_score='raise-deprecating',\n",
       "             estimator=Pipeline(memory=None,\n",
       "                                steps=[('preprocessor',\n",
       "                                        ColumnTransformer(n_jobs=None,\n",
       "                                                          remainder='drop',\n",
       "                                                          sparse_threshold=0.3,\n",
       "                                                          transformer_weights=None,\n",
       "                                                          transformers=[('num',\n",
       "                                                                         Pipeline(memory=None,\n",
       "                                                                                  steps=[('imputer',\n",
       "                                                                                          SimpleImputer(add_indicator=False,\n",
       "                                                                                                        cop...\n",
       "                                                               oob_score=False,\n",
       "                                                               random_state=None,\n",
       "                                                               verbose=0,\n",
       "                                                               warm_start=False))],\n",
       "                                verbose=False),\n",
       "             iid='warn', n_jobs=None,\n",
       "             param_grid={'classifier__criterion': ['entropy', 'gini'],\n",
       "                         'classifier__max_depth': [6, 8, 10, 12],\n",
       "                         'classifier__min_samples_leaf': [1, 5, 10],\n",
       "                         'classifier__min_samples_split': [2, 10, 20]},\n",
       "             pre_dispatch='2*n_jobs', refit=True, return_train_score=False,\n",
       "             scoring=None, verbose=0)"
      ]
     },
     "execution_count": 42,
     "metadata": {},
     "output_type": "execute_result"
    }
   ],
   "source": [
    "%%time\n",
    "rf_grid.fit(X_train,y_train)"
   ]
  },
  {
   "cell_type": "code",
   "execution_count": 43,
   "metadata": {},
   "outputs": [
    {
     "data": {
      "text/plain": [
       "{'classifier__criterion': 'gini',\n",
       " 'classifier__max_depth': 10,\n",
       " 'classifier__min_samples_leaf': 5,\n",
       " 'classifier__min_samples_split': 10}"
      ]
     },
     "execution_count": 43,
     "metadata": {},
     "output_type": "execute_result"
    }
   ],
   "source": [
    "rf_grid.best_params_"
   ]
  },
  {
   "cell_type": "code",
   "execution_count": 44,
   "metadata": {},
   "outputs": [
    {
     "name": "stdout",
     "output_type": "stream",
     "text": [
      "0.9164319704768379\n",
      "0.9128429230395727\n",
      "Test Precision:  0.9128429230395727\n",
      "Test Recall:  0.7668393782383419\n",
      "Test Accuracy:  0.3203463203463203\n"
     ]
    }
   ],
   "source": [
    "train_pred = rf_grid.predict(X_train)\n",
    "test_pred = rf_grid.predict(X_test)\n",
    "\n",
    "print(rf_grid.score(X_train, y_train))\n",
    "print(rf_grid.score(X_test, y_test))\n",
    "\n",
    "# Using the function to calculate accuracy, precision and recall.\n",
    "accuracy_precision_recall_metrics(y_true = y_test, y_pred = test_pred)"
   ]
  },
  {
   "cell_type": "markdown",
   "metadata": {},
   "source": [
    "### _Build Gradient Boosting - 4_"
   ]
  },
  {
   "cell_type": "code",
   "execution_count": 45,
   "metadata": {},
   "outputs": [],
   "source": [
    "clf = Pipeline(steps=[('preprocessor', preprocessor),\n",
    "                      ('GBM',GradientBoostingClassifier())])"
   ]
  },
  {
   "cell_type": "code",
   "execution_count": 46,
   "metadata": {},
   "outputs": [
    {
     "name": "stdout",
     "output_type": "stream",
     "text": [
      "CPU times: user 12min 36s, sys: 964 ms, total: 12min 37s\n",
      "Wall time: 12min 37s\n"
     ]
    }
   ],
   "source": [
    "%%time\n",
    "gbm_param_grid = {'GBM__max_depth': [8,10,12,14], 'GBM__subsample': [0.8, 0.6,], 'GBM__max_features':[0.2, 0.3], \n",
    "              'GBM__n_estimators': [10, 20, 30]}\n",
    "\n",
    "gbm_grid = GridSearchCV(clf, param_grid=gbm_param_grid, cv=3)\n",
    "\n",
    "gbm_grid.fit(X_train,y_train)"
   ]
  },
  {
   "cell_type": "code",
   "execution_count": 47,
   "metadata": {},
   "outputs": [
    {
     "data": {
      "text/plain": [
       "{'GBM__max_depth': 8,\n",
       " 'GBM__max_features': 0.2,\n",
       " 'GBM__n_estimators': 10,\n",
       " 'GBM__subsample': 0.6}"
      ]
     },
     "execution_count": 47,
     "metadata": {},
     "output_type": "execute_result"
    }
   ],
   "source": [
    "gbm_grid.best_params_"
   ]
  },
  {
   "cell_type": "code",
   "execution_count": 48,
   "metadata": {},
   "outputs": [
    {
     "name": "stdout",
     "output_type": "stream",
     "text": [
      "0.9122559968922987\n",
      "0.9109007040543822\n",
      "Test Precision:  0.9109007040543822\n",
      "Test Recall:  0.8925619834710744\n",
      "Test Accuracy:  0.23376623376623376\n"
     ]
    }
   ],
   "source": [
    "train_pred = gbm_grid.predict(X_train)\n",
    "test_pred = gbm_grid.predict(X_test)\n",
    "\n",
    "print(gbm_grid.score(X_train, y_train))\n",
    "print(gbm_grid.score(X_test, y_test))\n",
    "\n",
    "# Using the function to calculate accuracy, precision and recall.\n",
    "accuracy_precision_recall_metrics(y_true = y_test, y_pred = test_pred)"
   ]
  },
  {
   "cell_type": "markdown",
   "metadata": {},
   "source": [
    "## _Handling Imbalanced Data_\n",
    "\n",
    "### _1. Class Weights of loss function_"
   ]
  },
  {
   "cell_type": "code",
   "execution_count": 49,
   "metadata": {},
   "outputs": [
    {
     "name": "stdout",
     "output_type": "stream",
     "text": [
      "CPU times: user 10min 27s, sys: 5.66 s, total: 10min 33s\n",
      "Wall time: 10min 33s\n"
     ]
    }
   ],
   "source": [
    "%%time\n",
    "clf_dt = Pipeline(steps=[('preprocessor', preprocessor),\n",
    "                      ('classifier', DecisionTreeClassifier())])\n",
    "\n",
    "dt_param_grid = {'classifier__criterion': ['entropy', 'gini'], 'classifier__max_depth': [6,8,10,12], \n",
    "                 \"classifier__min_samples_split\": [2, 10, 20],\"classifier__min_samples_leaf\": [1, 5, 10],\n",
    "                 \"classifier__class_weight\":['balanced']}\n",
    "\n",
    "dt_grid_bal = GridSearchCV(clf_dt, param_grid=dt_param_grid, cv=5)\n",
    "dt_grid_bal.fit(X_train,y_train)"
   ]
  },
  {
   "cell_type": "code",
   "execution_count": 50,
   "metadata": {},
   "outputs": [
    {
     "name": "stdout",
     "output_type": "stream",
     "text": [
      "0.8636253277653686\n",
      "0.8691429958727847\n",
      "Test Precision:  0.8691429958727847\n",
      "Test Recall:  0.45951629863301785\n",
      "Test Accuracy:  0.9458874458874459\n"
     ]
    }
   ],
   "source": [
    "train_pred = dt_grid_bal.predict(X_train)\n",
    "test_pred = dt_grid_bal.predict(X_test)\n",
    "\n",
    "print(dt_grid_bal.score(X_train, y_train))\n",
    "print(dt_grid_bal.score(X_test, y_test))\n",
    "\n",
    "# Using the function to calculate accuracy, precision and recall.\n",
    "# accuracy_precision_recall_metrics(y_true = y_train, y_pred= train_pred)\n",
    "accuracy_precision_recall_metrics(y_true = y_test, y_pred = test_pred)"
   ]
  },
  {
   "cell_type": "markdown",
   "metadata": {},
   "source": [
    "### _2. Oversample Using SMOTE_\n",
    "\n",
    "<img src=\"SMOTE.jpg\" width = '400'><br>"
   ]
  },
  {
   "cell_type": "code",
   "execution_count": 53,
   "metadata": {},
   "outputs": [],
   "source": [
    "clf = Pipeline(steps=[('preprocessor', preprocessor)])\n",
    "\n",
    "X_train_pp = pd.DataFrame(clf.fit_transform(X_train))\n",
    "X_test_pp = pd.DataFrame(clf.transform(X_test))"
   ]
  },
  {
   "cell_type": "code",
   "execution_count": 54,
   "metadata": {},
   "outputs": [
    {
     "name": "stdout",
     "output_type": "stream",
     "text": [
      "length of oversampled data is  73096\n",
      "Number of no subscription in oversampled data 36548\n",
      "Number of subscription 36548\n",
      "Proportion of no subscription data in oversampled data is  0.5\n",
      "Proportion of subscription data in oversampled data is  0.5\n"
     ]
    }
   ],
   "source": [
    "smote = SMOTE(random_state=0)\n",
    "\n",
    "os_data_X,os_data_y=smote.fit_sample(X_train_pp, y_train)\n",
    "\n",
    "os_data_X = pd.DataFrame(data=os_data_X)\n",
    "os_data_y= pd.DataFrame(data=os_data_y,columns=['y'])\n",
    "\n",
    "# we can Check the numbers of our data\n",
    "print(\"length of oversampled data is \",len(os_data_X))\n",
    "print(\"Number of no subscription in oversampled data\",len(os_data_y[os_data_y['y']=='no']))\n",
    "print(\"Number of subscription\",len(os_data_y[os_data_y['y']=='yes']))\n",
    "print(\"Proportion of no subscription data in oversampled data is \",len(os_data_y[os_data_y['y']=='no'])/len(os_data_X))\n",
    "print(\"Proportion of subscription data in oversampled data is \",len(os_data_y[os_data_y['y']=='yes'])/len(os_data_X))"
   ]
  },
  {
   "cell_type": "code",
   "execution_count": 55,
   "metadata": {},
   "outputs": [
    {
     "name": "stdout",
     "output_type": "stream",
     "text": [
      "CPU times: user 3min 30s, sys: 8.03 ms, total: 3min 30s\n",
      "Wall time: 3min 30s\n"
     ]
    }
   ],
   "source": [
    "%%time\n",
    "clf_dt = Pipeline(steps=[('classifier', DecisionTreeClassifier())])\n",
    "\n",
    "dt_param_grid = {'classifier__criterion': ['entropy', 'gini'], 'classifier__max_depth': [6,8,10,12], \n",
    "                 \"classifier__min_samples_split\": [2, 10, 20],\"classifier__min_samples_leaf\": [1, 5, 10]}\n",
    "\n",
    "dt_grid_bal = GridSearchCV(clf_dt, param_grid=dt_param_grid, cv=5)\n",
    "\n",
    "dt_grid_bal.fit(os_data_X,os_data_y)"
   ]
  },
  {
   "cell_type": "code",
   "execution_count": 56,
   "metadata": {},
   "outputs": [
    {
     "name": "stdout",
     "output_type": "stream",
     "text": [
      "0.9161924045091386\n",
      "0.8858946346200534\n"
     ]
    }
   ],
   "source": [
    "train_pred = dt_grid_bal.predict(os_data_X).reshape(1,-1)[0]\n",
    "test_pred = dt_grid_bal.predict(X_test_pp).reshape(1,-1)[0]\n",
    "\n",
    "print(dt_grid_bal.score(os_data_X, os_data_y))\n",
    "print(dt_grid_bal.score(X_test_pp, y_test))"
   ]
  },
  {
   "cell_type": "code",
   "execution_count": 57,
   "metadata": {},
   "outputs": [
    {
     "data": {
      "text/plain": [
       "array([[32360,  4188],\n",
       "       [ 1938, 34610]])"
      ]
     },
     "execution_count": 57,
     "metadata": {},
     "output_type": "execute_result"
    }
   ],
   "source": [
    "confusion_matrix_train = confusion_matrix(y_true=os_data_y, y_pred = train_pred)\n",
    "confusion_matrix_train"
   ]
  },
  {
   "cell_type": "code",
   "execution_count": 58,
   "metadata": {},
   "outputs": [
    {
     "name": "stdout",
     "output_type": "stream",
     "text": [
      "Test Precision:  0.8920562915614207\n",
      "Test Recall:  0.9469738426179272\n",
      "Train Accuracy:  0.9161924045091386\n"
     ]
    }
   ],
   "source": [
    "Accuracy_train=(confusion_matrix_train[0,0]+confusion_matrix_train[1,1])/(np.sum(confusion_matrix_train))\n",
    "\n",
    "Precision_Train= confusion_matrix_train[1,1]/(confusion_matrix_train[1,1]+confusion_matrix_train[0,1])\n",
    "Recall_Train= confusion_matrix_train[1,1]/(confusion_matrix_train[1,0]+confusion_matrix_train[1,1])\n",
    "\n",
    "print(\"Test Precision: \",Precision_Train)\n",
    "print(\"Test Recall: \",Recall_Train)\n",
    "print(\"Train Accuracy: \",Accuracy_train)"
   ]
  },
  {
   "cell_type": "code",
   "execution_count": 59,
   "metadata": {},
   "outputs": [
    {
     "name": "stdout",
     "output_type": "stream",
     "text": [
      "Test Precision:  0.8858946346200534\n",
      "Test Recall:  0.49515738498789347\n",
      "Test Accuracy:  0.8852813852813853\n"
     ]
    }
   ],
   "source": [
    "accuracy_precision_recall_metrics(y_true = y_test, y_pred = test_pred)"
   ]
  },
  {
   "cell_type": "markdown",
   "metadata": {},
   "source": [
    "# Random Forest with important features."
   ]
  },
  {
   "cell_type": "code",
   "execution_count": 60,
   "metadata": {},
   "outputs": [],
   "source": [
    "clf = Pipeline(steps=[('preprocessor', preprocessor),\n",
    "                      ('classifier', RandomForestClassifier())])"
   ]
  },
  {
   "cell_type": "code",
   "execution_count": 61,
   "metadata": {},
   "outputs": [],
   "source": [
    "kfold = StratifiedKFold(n_splits=5, shuffle=True, random_state=143)\n",
    "\n",
    "param_grid = {\"classifier__n_estimators\" : [150, 250, 300],\n",
    "              \"classifier__max_depth\" : [5,8,10],\n",
    "              \"classifier__max_features\" : [3, 5, 7],\n",
    "              \"classifier__min_samples_leaf\" : [4, 6, 8, 10]}\n",
    "\n",
    "rf_grid = GridSearchCV(clf, param_grid=param_grid, cv=kfold)"
   ]
  },
  {
   "cell_type": "code",
   "execution_count": 62,
   "metadata": {},
   "outputs": [
    {
     "name": "stdout",
     "output_type": "stream",
     "text": [
      "CPU times: user 10min 47s, sys: 100 ms, total: 10min 47s\n",
      "Wall time: 10min 47s\n"
     ]
    },
    {
     "data": {
      "text/plain": [
       "GridSearchCV(cv=StratifiedKFold(n_splits=5, random_state=143, shuffle=True),\n",
       "             error_score='raise-deprecating',\n",
       "             estimator=Pipeline(memory=None,\n",
       "                                steps=[('preprocessor',\n",
       "                                        ColumnTransformer(n_jobs=None,\n",
       "                                                          remainder='drop',\n",
       "                                                          sparse_threshold=0.3,\n",
       "                                                          transformer_weights=None,\n",
       "                                                          transformers=[('num',\n",
       "                                                                         Pipeline(memory=None,\n",
       "                                                                                  steps=[('imputer',\n",
       "                                                                                          SimpleImputer(add_indicator=False,\n",
       "                                                                                                        cop...\n",
       "                                                               oob_score=False,\n",
       "                                                               random_state=None,\n",
       "                                                               verbose=0,\n",
       "                                                               warm_start=False))],\n",
       "                                verbose=False),\n",
       "             iid='warn', n_jobs=None,\n",
       "             param_grid={'classifier__criterion': ['entropy', 'gini'],\n",
       "                         'classifier__max_depth': [6, 8, 10, 12],\n",
       "                         'classifier__min_samples_leaf': [1, 5, 10],\n",
       "                         'classifier__min_samples_split': [2, 10, 20]},\n",
       "             pre_dispatch='2*n_jobs', refit=True, return_train_score=False,\n",
       "             scoring=None, verbose=0)"
      ]
     },
     "execution_count": 62,
     "metadata": {},
     "output_type": "execute_result"
    }
   ],
   "source": [
    "%%time\n",
    "rf_grid.fit(X_train,y_train)"
   ]
  },
  {
   "cell_type": "code",
   "execution_count": 63,
   "metadata": {},
   "outputs": [
    {
     "data": {
      "text/plain": [
       "{'classifier__criterion': 'gini',\n",
       " 'classifier__max_depth': 12,\n",
       " 'classifier__min_samples_leaf': 1,\n",
       " 'classifier__min_samples_split': 10}"
      ]
     },
     "execution_count": 63,
     "metadata": {},
     "output_type": "execute_result"
    }
   ],
   "source": [
    "rf_grid.best_params_"
   ]
  },
  {
   "cell_type": "code",
   "execution_count": 64,
   "metadata": {},
   "outputs": [
    {
     "name": "stdout",
     "output_type": "stream",
     "text": [
      "['x0_admin.' 'x0_blue-collar' 'x0_entrepreneur' 'x0_housemaid'\n",
      " 'x0_management' 'x0_retired' 'x0_self-employed' 'x0_services'\n",
      " 'x0_student' 'x0_technician' 'x0_unemployed' 'x1_divorced' 'x1_married'\n",
      " 'x1_single' 'x2_basic' 'x2_high.school' 'x2_illiterate'\n",
      " 'x2_professional.course' 'x2_university.degree' 'x3_no' 'x3_yes' 'x4_no'\n",
      " 'x4_yes' 'x5_no' 'x5_yes' 'x6_cellular' 'x6_telephone' 'x7_apr' 'x7_aug'\n",
      " 'x7_dec' 'x7_jul' 'x7_jun' 'x7_mar' 'x7_may' 'x7_nov' 'x7_oct' 'x7_sep'\n",
      " 'x8_fri' 'x8_mon' 'x8_thu' 'x8_tue' 'x8_wed' 'x9_failure'\n",
      " 'x9_nonexistent' 'x9_success']\n"
     ]
    }
   ],
   "source": [
    "pl = rf_grid.best_estimator_.named_steps['preprocessor']\n",
    "catpl = pl.named_transformers_['cat']\n",
    "ohe = catpl.named_steps['onehot']\n",
    "ohe_features = ohe.get_feature_names()\n",
    "print(ohe_features)"
   ]
  },
  {
   "cell_type": "code",
   "execution_count": 65,
   "metadata": {
    "scrolled": true
   },
   "outputs": [
    {
     "data": {
      "text/plain": [
       "['age',\n",
       " 'campaign',\n",
       " 'cons_conf_idx',\n",
       " 'cons_price_idx',\n",
       " 'duration',\n",
       " 'emp_var_rate',\n",
       " 'euribor3m',\n",
       " 'nr_employed',\n",
       " 'pdays',\n",
       " 'previous',\n",
       " 'x0_admin.',\n",
       " 'x0_blue-collar',\n",
       " 'x0_entrepreneur',\n",
       " 'x0_housemaid',\n",
       " 'x0_management',\n",
       " 'x0_retired',\n",
       " 'x0_self-employed',\n",
       " 'x0_services',\n",
       " 'x0_student',\n",
       " 'x0_technician',\n",
       " 'x0_unemployed',\n",
       " 'x1_divorced',\n",
       " 'x1_married',\n",
       " 'x1_single',\n",
       " 'x2_basic',\n",
       " 'x2_high.school',\n",
       " 'x2_illiterate',\n",
       " 'x2_professional.course',\n",
       " 'x2_university.degree',\n",
       " 'x3_no',\n",
       " 'x3_yes',\n",
       " 'x4_no',\n",
       " 'x4_yes',\n",
       " 'x5_no',\n",
       " 'x5_yes',\n",
       " 'x6_cellular',\n",
       " 'x6_telephone',\n",
       " 'x7_apr',\n",
       " 'x7_aug',\n",
       " 'x7_dec',\n",
       " 'x7_jul',\n",
       " 'x7_jun',\n",
       " 'x7_mar',\n",
       " 'x7_may',\n",
       " 'x7_nov',\n",
       " 'x7_oct',\n",
       " 'x7_sep',\n",
       " 'x8_fri',\n",
       " 'x8_mon',\n",
       " 'x8_thu',\n",
       " 'x8_tue',\n",
       " 'x8_wed',\n",
       " 'x9_failure',\n",
       " 'x9_nonexistent',\n",
       " 'x9_success']"
      ]
     },
     "execution_count": 65,
     "metadata": {},
     "output_type": "execute_result"
    }
   ],
   "source": [
    "num_attr.extend(ohe_features)\n",
    "num_attr"
   ]
  },
  {
   "cell_type": "code",
   "execution_count": 66,
   "metadata": {},
   "outputs": [
    {
     "name": "stdout",
     "output_type": "stream",
     "text": [
      "[2.89957018e-02 1.14277941e-02 2.34474660e-02 3.55683377e-02\n",
      " 3.52956581e-01 1.56854420e-02 7.52707965e-02 1.38262300e-01\n",
      " 9.92086316e-02 6.32045740e-03 3.66022964e-03 4.06483094e-03\n",
      " 1.68959316e-03 1.47182025e-03 2.73274583e-03 4.11644365e-03\n",
      " 2.27420697e-03 2.82960342e-03 5.17026148e-03 2.70035935e-03\n",
      " 2.06229878e-03 2.56156723e-03 2.56512316e-03 4.12016020e-03\n",
      " 4.02569100e-03 3.69134681e-03 2.73328489e-04 3.61241821e-03\n",
      " 4.65673200e-03 0.00000000e+00 0.00000000e+00 3.95073048e-03\n",
      " 4.01859342e-03 3.53942129e-03 3.66840398e-03 5.08065643e-03\n",
      " 1.12877166e-02 5.18909075e-03 1.56812373e-03 1.34588658e-03\n",
      " 1.75046708e-03 3.22856060e-03 1.00300131e-02 7.39305313e-03\n",
      " 2.29211635e-03 1.24410464e-02 2.16719214e-03 3.49227839e-03\n",
      " 4.92790891e-03 4.36289660e-03 3.70034444e-03 3.05573262e-03\n",
      " 9.23966029e-03 3.72680729e-03 4.31210308e-02]\n"
     ]
    }
   ],
   "source": [
    "feature_imp = rf_grid.best_estimator_.steps[1][1].feature_importances_\n",
    "print(feature_imp)"
   ]
  },
  {
   "cell_type": "code",
   "execution_count": 67,
   "metadata": {},
   "outputs": [
    {
     "data": {
      "text/html": [
       "<div>\n",
       "<style scoped>\n",
       "    .dataframe tbody tr th:only-of-type {\n",
       "        vertical-align: middle;\n",
       "    }\n",
       "\n",
       "    .dataframe tbody tr th {\n",
       "        vertical-align: top;\n",
       "    }\n",
       "\n",
       "    .dataframe thead th {\n",
       "        text-align: right;\n",
       "    }\n",
       "</style>\n",
       "<table border=\"1\" class=\"dataframe\">\n",
       "  <thead>\n",
       "    <tr style=\"text-align: right;\">\n",
       "      <th></th>\n",
       "      <th>var_imp</th>\n",
       "    </tr>\n",
       "  </thead>\n",
       "  <tbody>\n",
       "    <tr>\n",
       "      <td>duration</td>\n",
       "      <td>0.352957</td>\n",
       "    </tr>\n",
       "    <tr>\n",
       "      <td>nr_employed</td>\n",
       "      <td>0.138262</td>\n",
       "    </tr>\n",
       "    <tr>\n",
       "      <td>pdays</td>\n",
       "      <td>0.099209</td>\n",
       "    </tr>\n",
       "    <tr>\n",
       "      <td>euribor3m</td>\n",
       "      <td>0.075271</td>\n",
       "    </tr>\n",
       "    <tr>\n",
       "      <td>x9_success</td>\n",
       "      <td>0.043121</td>\n",
       "    </tr>\n",
       "    <tr>\n",
       "      <td>cons_price_idx</td>\n",
       "      <td>0.035568</td>\n",
       "    </tr>\n",
       "    <tr>\n",
       "      <td>age</td>\n",
       "      <td>0.028996</td>\n",
       "    </tr>\n",
       "    <tr>\n",
       "      <td>cons_conf_idx</td>\n",
       "      <td>0.023447</td>\n",
       "    </tr>\n",
       "  </tbody>\n",
       "</table>\n",
       "</div>"
      ],
      "text/plain": [
       "                 var_imp\n",
       "duration        0.352957\n",
       "nr_employed     0.138262\n",
       "pdays           0.099209\n",
       "euribor3m       0.075271\n",
       "x9_success      0.043121\n",
       "cons_price_idx  0.035568\n",
       "age             0.028996\n",
       "cons_conf_idx   0.023447"
      ]
     },
     "execution_count": 67,
     "metadata": {},
     "output_type": "execute_result"
    }
   ],
   "source": [
    "feature_imp_df = pd.DataFrame(feature_imp.tolist(),index =num_attr,columns=['var_imp'])\n",
    "feature_imp_df = feature_imp_df.sort_values(by=\"var_imp\",ascending=False)\n",
    "feature_imp_df.head(8)"
   ]
  },
  {
   "cell_type": "code",
   "execution_count": 68,
   "metadata": {},
   "outputs": [
    {
     "data": {
      "text/plain": [
       "<matplotlib.axes._subplots.AxesSubplot at 0x7f83c90bbdd8>"
      ]
     },
     "execution_count": 68,
     "metadata": {},
     "output_type": "execute_result"
    },
    {
     "data": {
      "image/png": "[encoded data removed]",
      "text/plain": [
       "<Figure size 432x288 with 1 Axes>"
      ]
     },
     "metadata": {
      "needs_background": "light"
     },
     "output_type": "display_data"
    }
   ],
   "source": [
    "feature_imp_df[:15].plot(kind='bar')"
   ]
  },
  {
   "cell_type": "code",
   "execution_count": 69,
   "metadata": {},
   "outputs": [
    {
     "name": "stdout",
     "output_type": "stream",
     "text": [
      "0.9312421093522385\n",
      "0.9252245690701627\n",
      "Test Precision:  0.9252245690701627\n",
      "Test Recall:  0.8031496062992126\n",
      "Test Accuracy:  0.44155844155844154\n"
     ]
    }
   ],
   "source": [
    "train_pred = rf_grid.predict(X_train)\n",
    "test_pred = rf_grid.predict(X_test)\n",
    "\n",
    "print(rf_grid.score(X_train, y_train))\n",
    "print(rf_grid.score(X_test, y_test))\n",
    "\n",
    "# Using the function to calculate accuracy, precision and recall.\n",
    "accuracy_precision_recall_metrics(y_true = y_test, y_pred = test_pred)"
   ]
  },
  {
   "cell_type": "markdown",
   "metadata": {},
   "source": [
    "## _Insights_\n",
    "\n",
    "* Excel Sheet Analysis\n",
    "\n",
    "\n",
    "* Positive : Yes to Campaign ; Negative : No to Campaign\n",
    "\n",
    "\n",
    "* Recall Importance : False pos\n",
    "\n",
    "# Interesting links:\n",
    "\n",
    "https://scikit-learn.org/stable/\n",
    "\n",
    "https://scikit-learn.org/stable/modules/generated/sklearn.pipeline.Pipeline.html\n",
    "\n",
    "https://imbalanced-learn.readthedocs.io/en/stable/over_sampling.html"
   ]
  },
  {
   "cell_type": "code",
   "execution_count": null,
   "metadata": {},
   "outputs": [],
   "source": []
  }
 ],
 "metadata": {
  "kernelspec": {
   "display_name": "Python 3",
   "language": "python",
   "name": "python3"
  },
  "language_info": {
   "codemirror_mode": {
    "name": "ipython",
    "version": 3
   },
   "file_extension": ".py",
   "mimetype": "text/x-python",
   "name": "python",
   "nbconvert_exporter": "python",
   "pygments_lexer": "ipython3",
   "version": "3.6.10"
  },
  "toc": {
   "base_numbering": 1,
   "nav_menu": {},
   "number_sections": true,
   "sideBar": true,
   "skip_h1_title": true,
   "title_cell": "Table of Contents",
   "title_sidebar": "Contents",
   "toc_cell": false,
   "toc_position": {},
   "toc_section_display": true,
   "toc_window_display": false
  }
 },
 "nbformat": 4,
 "nbformat_minor": 2
}
